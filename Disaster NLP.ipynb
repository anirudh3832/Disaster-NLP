{
 "cells": [
  {
   "cell_type": "code",
   "execution_count": 1,
   "metadata": {
    "ExecuteTime": {
     "end_time": "2020-04-07T12:28:51.668928Z",
     "start_time": "2020-04-07T12:28:00.760401Z"
    },
    "_cell_guid": "b1076dfc-b9ad-4769-8c92-a6c4dae69d19",
    "_uuid": "8f2839f25d086af736a60e9eeb907d3b93b6e0e5"
   },
   "outputs": [],
   "source": [
    "# This Python 3 environment comes with many helpful analytics libraries installed\n",
    "# It is defined by the kaggle/python docker image: https://github.com/kaggle/docker-python\n",
    "# For example, here's several helpful packages to load in \n",
    "\n",
    "import numpy as np # linear algebra\n",
    "import pandas as pd # data processing, CSV file I/O (e.g. pd.read_csv)\n",
    "import re\n",
    "\n",
    "# Input data files are available in the \"../input/\" directory.\n",
    "# For example, running this (by clicking run or pressing Shift+Enter) will list all files under the input directory\n",
    "\n",
    "import os\n",
    "for dirname, _, filenames in os.walk('/kaggle/input'):\n",
    "    for filename in filenames:\n",
    "        print(os.path.join(dirname, filename))\n",
    "\n",
    "# Any results you write to the current directory are saved as output."
   ]
  },
  {
   "cell_type": "code",
   "execution_count": 3,
   "metadata": {
    "ExecuteTime": {
     "end_time": "2020-01-06T09:25:05.436278Z",
     "start_time": "2020-01-06T09:25:04.487445Z"
    },
    "_cell_guid": "79c7e3d0-c299-4dcb-8224-4455121ee9b0",
    "_uuid": "d629ff2d2480ee46fbb7e2d37f6b5fab8052498a"
   },
   "outputs": [],
   "source": [
    "train=pd.read_csv('train.csv')\n",
    "test=pd.read_csv('test.csv')"
   ]
  },
  {
   "cell_type": "code",
   "execution_count": 14,
   "metadata": {
    "ExecuteTime": {
     "end_time": "2020-04-07T12:56:07.863861Z",
     "start_time": "2020-04-07T12:55:33.817276Z"
    }
   },
   "outputs": [],
   "source": [
    "import nltk\n",
    "from nltk.tokenize import RegexpTokenizer\n",
    "from nltk.stem import WordNetLemmatizer,PorterStemmer\n",
    "from nltk.corpus import stopwords\n",
    "import re\n",
    "lemmatizer = WordNetLemmatizer()\n",
    "stemmer = PorterStemmer() \n",
    "import nltk\n",
    "from nltk import *\n",
    "from nltk.corpus import wordnet\n",
    "#nltk.download('wordnet')"
   ]
  },
  {
   "cell_type": "code",
   "execution_count": null,
   "metadata": {},
   "outputs": [],
   "source": []
  },
  {
   "cell_type": "code",
   "execution_count": 5,
   "metadata": {
    "ExecuteTime": {
     "end_time": "2020-01-06T09:25:54.482026Z",
     "start_time": "2020-01-06T09:25:54.278591Z"
    }
   },
   "outputs": [
    {
     "data": {
      "text/html": [
       "<div>\n",
       "<style scoped>\n",
       "    .dataframe tbody tr th:only-of-type {\n",
       "        vertical-align: middle;\n",
       "    }\n",
       "\n",
       "    .dataframe tbody tr th {\n",
       "        vertical-align: top;\n",
       "    }\n",
       "\n",
       "    .dataframe thead th {\n",
       "        text-align: right;\n",
       "    }\n",
       "</style>\n",
       "<table border=\"1\" class=\"dataframe\">\n",
       "  <thead>\n",
       "    <tr style=\"text-align: right;\">\n",
       "      <th></th>\n",
       "      <th>id</th>\n",
       "      <th>keyword</th>\n",
       "      <th>location</th>\n",
       "      <th>text</th>\n",
       "      <th>target</th>\n",
       "    </tr>\n",
       "  </thead>\n",
       "  <tbody>\n",
       "    <tr>\n",
       "      <th>0</th>\n",
       "      <td>1</td>\n",
       "      <td>NaN</td>\n",
       "      <td>NaN</td>\n",
       "      <td>Our Deeds are the Reason of this #earthquake M...</td>\n",
       "      <td>1</td>\n",
       "    </tr>\n",
       "    <tr>\n",
       "      <th>1</th>\n",
       "      <td>4</td>\n",
       "      <td>NaN</td>\n",
       "      <td>NaN</td>\n",
       "      <td>Forest fire near La Ronge Sask. Canada</td>\n",
       "      <td>1</td>\n",
       "    </tr>\n",
       "    <tr>\n",
       "      <th>2</th>\n",
       "      <td>5</td>\n",
       "      <td>NaN</td>\n",
       "      <td>NaN</td>\n",
       "      <td>All residents asked to 'shelter in place' are ...</td>\n",
       "      <td>1</td>\n",
       "    </tr>\n",
       "    <tr>\n",
       "      <th>3</th>\n",
       "      <td>6</td>\n",
       "      <td>NaN</td>\n",
       "      <td>NaN</td>\n",
       "      <td>13,000 people receive #wildfires evacuation or...</td>\n",
       "      <td>1</td>\n",
       "    </tr>\n",
       "    <tr>\n",
       "      <th>4</th>\n",
       "      <td>7</td>\n",
       "      <td>NaN</td>\n",
       "      <td>NaN</td>\n",
       "      <td>Just got sent this photo from Ruby #Alaska as ...</td>\n",
       "      <td>1</td>\n",
       "    </tr>\n",
       "  </tbody>\n",
       "</table>\n",
       "</div>"
      ],
      "text/plain": [
       "   id keyword location                                               text  \\\n",
       "0   1     NaN      NaN  Our Deeds are the Reason of this #earthquake M...   \n",
       "1   4     NaN      NaN             Forest fire near La Ronge Sask. Canada   \n",
       "2   5     NaN      NaN  All residents asked to 'shelter in place' are ...   \n",
       "3   6     NaN      NaN  13,000 people receive #wildfires evacuation or...   \n",
       "4   7     NaN      NaN  Just got sent this photo from Ruby #Alaska as ...   \n",
       "\n",
       "   target  \n",
       "0       1  \n",
       "1       1  \n",
       "2       1  \n",
       "3       1  \n",
       "4       1  "
      ]
     },
     "execution_count": 5,
     "metadata": {},
     "output_type": "execute_result"
    }
   ],
   "source": [
    "train.head()"
   ]
  },
  {
   "cell_type": "code",
   "execution_count": 6,
   "metadata": {
    "ExecuteTime": {
     "end_time": "2020-01-06T09:25:55.420178Z",
     "start_time": "2020-01-06T09:25:55.405184Z"
    }
   },
   "outputs": [
    {
     "data": {
      "text/html": [
       "<div>\n",
       "<style scoped>\n",
       "    .dataframe tbody tr th:only-of-type {\n",
       "        vertical-align: middle;\n",
       "    }\n",
       "\n",
       "    .dataframe tbody tr th {\n",
       "        vertical-align: top;\n",
       "    }\n",
       "\n",
       "    .dataframe thead th {\n",
       "        text-align: right;\n",
       "    }\n",
       "</style>\n",
       "<table border=\"1\" class=\"dataframe\">\n",
       "  <thead>\n",
       "    <tr style=\"text-align: right;\">\n",
       "      <th></th>\n",
       "      <th>id</th>\n",
       "      <th>keyword</th>\n",
       "      <th>location</th>\n",
       "      <th>text</th>\n",
       "    </tr>\n",
       "  </thead>\n",
       "  <tbody>\n",
       "    <tr>\n",
       "      <th>0</th>\n",
       "      <td>0</td>\n",
       "      <td>NaN</td>\n",
       "      <td>NaN</td>\n",
       "      <td>Just happened a terrible car crash</td>\n",
       "    </tr>\n",
       "    <tr>\n",
       "      <th>1</th>\n",
       "      <td>2</td>\n",
       "      <td>NaN</td>\n",
       "      <td>NaN</td>\n",
       "      <td>Heard about #earthquake is different cities, s...</td>\n",
       "    </tr>\n",
       "    <tr>\n",
       "      <th>2</th>\n",
       "      <td>3</td>\n",
       "      <td>NaN</td>\n",
       "      <td>NaN</td>\n",
       "      <td>there is a forest fire at spot pond, geese are...</td>\n",
       "    </tr>\n",
       "    <tr>\n",
       "      <th>3</th>\n",
       "      <td>9</td>\n",
       "      <td>NaN</td>\n",
       "      <td>NaN</td>\n",
       "      <td>Apocalypse lighting. #Spokane #wildfires</td>\n",
       "    </tr>\n",
       "    <tr>\n",
       "      <th>4</th>\n",
       "      <td>11</td>\n",
       "      <td>NaN</td>\n",
       "      <td>NaN</td>\n",
       "      <td>Typhoon Soudelor kills 28 in China and Taiwan</td>\n",
       "    </tr>\n",
       "  </tbody>\n",
       "</table>\n",
       "</div>"
      ],
      "text/plain": [
       "   id keyword location                                               text\n",
       "0   0     NaN      NaN                 Just happened a terrible car crash\n",
       "1   2     NaN      NaN  Heard about #earthquake is different cities, s...\n",
       "2   3     NaN      NaN  there is a forest fire at spot pond, geese are...\n",
       "3   9     NaN      NaN           Apocalypse lighting. #Spokane #wildfires\n",
       "4  11     NaN      NaN      Typhoon Soudelor kills 28 in China and Taiwan"
      ]
     },
     "execution_count": 6,
     "metadata": {},
     "output_type": "execute_result"
    }
   ],
   "source": [
    "test.head()"
   ]
  },
  {
   "cell_type": "code",
   "execution_count": 7,
   "metadata": {
    "ExecuteTime": {
     "end_time": "2020-01-06T09:25:56.114724Z",
     "start_time": "2020-01-06T09:25:56.103712Z"
    }
   },
   "outputs": [
    {
     "data": {
      "text/plain": [
       "id             0\n",
       "keyword       61\n",
       "location    2533\n",
       "text           0\n",
       "target         0\n",
       "dtype: int64"
      ]
     },
     "execution_count": 7,
     "metadata": {},
     "output_type": "execute_result"
    }
   ],
   "source": [
    "train.isnull().sum()"
   ]
  },
  {
   "cell_type": "code",
   "execution_count": 8,
   "metadata": {
    "ExecuteTime": {
     "end_time": "2020-01-06T09:25:56.731989Z",
     "start_time": "2020-01-06T09:25:56.722993Z"
    }
   },
   "outputs": [
    {
     "name": "stdout",
     "output_type": "stream",
     "text": [
      "train shape: (7613, 5)\n",
      "test shape: (3263, 4)\n"
     ]
    }
   ],
   "source": [
    "print('train shape:',train.shape)\n",
    "print(\"test shape:\",test.shape)"
   ]
  },
  {
   "cell_type": "code",
   "execution_count": 9,
   "metadata": {
    "ExecuteTime": {
     "end_time": "2020-01-06T09:25:57.465788Z",
     "start_time": "2020-01-06T09:25:57.449788Z"
    }
   },
   "outputs": [],
   "source": [
    "def replace(txt):\n",
    "    return re.sub(r'@\\w+','',txt)\n",
    "\n",
    "def hashtags(txt):\n",
    "    return \" \".join(re.findall(r'#(\\w+)',txt))\n",
    "\n",
    "#https://stackoverflow.com/questions/39634222/is-there-a-way-to-remove-proper-nouns-from-a-sentence-using-python\n",
    "#def removeNouns(txt):\n",
    "#    tagged_sentence = nltk.tag.pos_tag(txt.split())\n",
    "#    edited_sentence = [word for word,tag in tagged_sentence if tag != 'NNP' and tag != 'NNPS']\n",
    "#   return ' '.join(edited_sentence)\n",
    "        \n",
    "\n",
    "#https://stackoverflow.com/questions/54396405/how-can-i-preprocess-nlp-text-lowercase-remove-special-characters-remove-numb\n",
    "def nltkpreprocess(txt):\n",
    "    tokenizer = RegexpTokenizer(r'\\w+')\n",
    "    tokens = tokenizer.tokenize(txt)  \n",
    "    filtered_words = [w for w in tokens if len(w) > 2 if not w in stopwords.words('english')]\n",
    "    stem_words=[stemmer.stem(w) for w in filtered_words]\n",
    "    lemma_words=[lemmatizer.lemmatize(w) for w in stem_words]\n",
    "    return \" \".join(filtered_words)\n",
    "\n",
    "def preprocess(df):\n",
    "    df.text=df.text.str.lower() \n",
    "    df.text=df.text.apply(replace)\n",
    "    df['hashtags']=df.text.apply(hashtags)\n",
    "    df.text=df.text.replace(r'[^a-z ]+', '', regex=True)\n",
    "    df.text=df.text.replace(r'http\\S+', '', regex=True)\n",
    "#    df.text=df.text.apply(removeNouns)\n",
    "    df.text=df.text.apply(nltkpreprocess)\n",
    "    return df\n",
    "    "
   ]
  },
  {
   "cell_type": "code",
   "execution_count": 28,
   "metadata": {
    "ExecuteTime": {
     "end_time": "2020-04-07T13:07:16.683377Z",
     "start_time": "2020-04-07T13:07:16.675394Z"
    }
   },
   "outputs": [
    {
     "data": {
      "text/plain": [
       "'bat'"
      ]
     },
     "execution_count": 28,
     "metadata": {},
     "output_type": "execute_result"
    }
   ],
   "source": [
    "lemmatizer.lemmatize('bats')"
   ]
  },
  {
   "cell_type": "code",
   "execution_count": 10,
   "metadata": {
    "ExecuteTime": {
     "end_time": "2020-01-06T09:26:41.298277Z",
     "start_time": "2020-01-06T09:25:58.242331Z"
    }
   },
   "outputs": [],
   "source": [
    "train=preprocess(train)\n",
    "test=preprocess(test)"
   ]
  },
  {
   "cell_type": "code",
   "execution_count": 11,
   "metadata": {
    "ExecuteTime": {
     "end_time": "2020-01-06T09:26:42.084920Z",
     "start_time": "2020-01-06T09:26:42.065926Z"
    }
   },
   "outputs": [
    {
     "data": {
      "text/html": [
       "<div>\n",
       "<style scoped>\n",
       "    .dataframe tbody tr th:only-of-type {\n",
       "        vertical-align: middle;\n",
       "    }\n",
       "\n",
       "    .dataframe tbody tr th {\n",
       "        vertical-align: top;\n",
       "    }\n",
       "\n",
       "    .dataframe thead th {\n",
       "        text-align: right;\n",
       "    }\n",
       "</style>\n",
       "<table border=\"1\" class=\"dataframe\">\n",
       "  <thead>\n",
       "    <tr style=\"text-align: right;\">\n",
       "      <th></th>\n",
       "      <th>id</th>\n",
       "      <th>keyword</th>\n",
       "      <th>location</th>\n",
       "      <th>text</th>\n",
       "      <th>target</th>\n",
       "      <th>hashtags</th>\n",
       "    </tr>\n",
       "  </thead>\n",
       "  <tbody>\n",
       "    <tr>\n",
       "      <th>0</th>\n",
       "      <td>1</td>\n",
       "      <td>NaN</td>\n",
       "      <td>NaN</td>\n",
       "      <td>deeds reason earthquake may allah forgive</td>\n",
       "      <td>1</td>\n",
       "      <td>earthquake</td>\n",
       "    </tr>\n",
       "    <tr>\n",
       "      <th>1</th>\n",
       "      <td>4</td>\n",
       "      <td>NaN</td>\n",
       "      <td>NaN</td>\n",
       "      <td>forest fire near ronge sask canada</td>\n",
       "      <td>1</td>\n",
       "      <td></td>\n",
       "    </tr>\n",
       "    <tr>\n",
       "      <th>2</th>\n",
       "      <td>5</td>\n",
       "      <td>NaN</td>\n",
       "      <td>NaN</td>\n",
       "      <td>residents asked shelter place notified officer...</td>\n",
       "      <td>1</td>\n",
       "      <td></td>\n",
       "    </tr>\n",
       "    <tr>\n",
       "      <th>3</th>\n",
       "      <td>6</td>\n",
       "      <td>NaN</td>\n",
       "      <td>NaN</td>\n",
       "      <td>people receive wildfires evacuation orders cal...</td>\n",
       "      <td>1</td>\n",
       "      <td>wildfires</td>\n",
       "    </tr>\n",
       "    <tr>\n",
       "      <th>4</th>\n",
       "      <td>7</td>\n",
       "      <td>NaN</td>\n",
       "      <td>NaN</td>\n",
       "      <td>got sent photo ruby alaska smoke wildfires pou...</td>\n",
       "      <td>1</td>\n",
       "      <td>alaska wildfires</td>\n",
       "    </tr>\n",
       "  </tbody>\n",
       "</table>\n",
       "</div>"
      ],
      "text/plain": [
       "   id keyword location                                               text  \\\n",
       "0   1     NaN      NaN          deeds reason earthquake may allah forgive   \n",
       "1   4     NaN      NaN                 forest fire near ronge sask canada   \n",
       "2   5     NaN      NaN  residents asked shelter place notified officer...   \n",
       "3   6     NaN      NaN  people receive wildfires evacuation orders cal...   \n",
       "4   7     NaN      NaN  got sent photo ruby alaska smoke wildfires pou...   \n",
       "\n",
       "   target          hashtags  \n",
       "0       1        earthquake  \n",
       "1       1                    \n",
       "2       1                    \n",
       "3       1         wildfires  \n",
       "4       1  alaska wildfires  "
      ]
     },
     "execution_count": 11,
     "metadata": {},
     "output_type": "execute_result"
    }
   ],
   "source": [
    "train.head()"
   ]
  },
  {
   "cell_type": "code",
   "execution_count": 12,
   "metadata": {
    "ExecuteTime": {
     "end_time": "2020-01-06T09:26:43.193095Z",
     "start_time": "2020-01-06T09:26:43.176098Z"
    }
   },
   "outputs": [
    {
     "data": {
      "text/html": [
       "<div>\n",
       "<style scoped>\n",
       "    .dataframe tbody tr th:only-of-type {\n",
       "        vertical-align: middle;\n",
       "    }\n",
       "\n",
       "    .dataframe tbody tr th {\n",
       "        vertical-align: top;\n",
       "    }\n",
       "\n",
       "    .dataframe thead th {\n",
       "        text-align: right;\n",
       "    }\n",
       "</style>\n",
       "<table border=\"1\" class=\"dataframe\">\n",
       "  <thead>\n",
       "    <tr style=\"text-align: right;\">\n",
       "      <th></th>\n",
       "      <th>id</th>\n",
       "      <th>keyword</th>\n",
       "      <th>location</th>\n",
       "      <th>text</th>\n",
       "      <th>hashtags</th>\n",
       "    </tr>\n",
       "  </thead>\n",
       "  <tbody>\n",
       "    <tr>\n",
       "      <th>0</th>\n",
       "      <td>0</td>\n",
       "      <td>NaN</td>\n",
       "      <td>NaN</td>\n",
       "      <td>happened terrible car crash</td>\n",
       "      <td></td>\n",
       "    </tr>\n",
       "    <tr>\n",
       "      <th>1</th>\n",
       "      <td>2</td>\n",
       "      <td>NaN</td>\n",
       "      <td>NaN</td>\n",
       "      <td>heard earthquake different cities stay safe ev...</td>\n",
       "      <td>earthquake</td>\n",
       "    </tr>\n",
       "    <tr>\n",
       "      <th>2</th>\n",
       "      <td>3</td>\n",
       "      <td>NaN</td>\n",
       "      <td>NaN</td>\n",
       "      <td>forest fire spot pond geese fleeing across str...</td>\n",
       "      <td></td>\n",
       "    </tr>\n",
       "    <tr>\n",
       "      <th>3</th>\n",
       "      <td>9</td>\n",
       "      <td>NaN</td>\n",
       "      <td>NaN</td>\n",
       "      <td>apocalypse lighting spokane wildfires</td>\n",
       "      <td>spokane wildfires</td>\n",
       "    </tr>\n",
       "    <tr>\n",
       "      <th>4</th>\n",
       "      <td>11</td>\n",
       "      <td>NaN</td>\n",
       "      <td>NaN</td>\n",
       "      <td>typhoon soudelor kills china taiwan</td>\n",
       "      <td></td>\n",
       "    </tr>\n",
       "  </tbody>\n",
       "</table>\n",
       "</div>"
      ],
      "text/plain": [
       "   id keyword location                                               text  \\\n",
       "0   0     NaN      NaN                        happened terrible car crash   \n",
       "1   2     NaN      NaN  heard earthquake different cities stay safe ev...   \n",
       "2   3     NaN      NaN  forest fire spot pond geese fleeing across str...   \n",
       "3   9     NaN      NaN              apocalypse lighting spokane wildfires   \n",
       "4  11     NaN      NaN                typhoon soudelor kills china taiwan   \n",
       "\n",
       "            hashtags  \n",
       "0                     \n",
       "1         earthquake  \n",
       "2                     \n",
       "3  spokane wildfires  \n",
       "4                     "
      ]
     },
     "execution_count": 12,
     "metadata": {},
     "output_type": "execute_result"
    }
   ],
   "source": [
    "test.head()"
   ]
  },
  {
   "cell_type": "code",
   "execution_count": 2,
   "metadata": {
    "ExecuteTime": {
     "end_time": "2020-04-07T12:44:32.813320Z",
     "start_time": "2020-04-07T12:44:19.694694Z"
    }
   },
   "outputs": [],
   "source": [
    "from gensim.models import Word2Vec\n",
    "from gensim.models import KeyedVectors"
   ]
  },
  {
   "cell_type": "code",
   "execution_count": 3,
   "metadata": {
    "ExecuteTime": {
     "end_time": "2020-04-07T12:46:42.799108Z",
     "start_time": "2020-04-07T12:44:35.558621Z"
    }
   },
   "outputs": [],
   "source": [
    "model = KeyedVectors.load_word2vec_format('GoogleNews-vectors-negative300.bin', binary = True);"
   ]
  },
  {
   "cell_type": "code",
   "execution_count": 13,
   "metadata": {
    "ExecuteTime": {
     "end_time": "2020-01-05T06:14:03.229205Z",
     "start_time": "2020-01-05T06:14:02.775220Z"
    }
   },
   "outputs": [
    {
     "data": {
      "text/html": [
       "<div>\n",
       "<style scoped>\n",
       "    .dataframe tbody tr th:only-of-type {\n",
       "        vertical-align: middle;\n",
       "    }\n",
       "\n",
       "    .dataframe tbody tr th {\n",
       "        vertical-align: top;\n",
       "    }\n",
       "\n",
       "    .dataframe thead th {\n",
       "        text-align: right;\n",
       "    }\n",
       "</style>\n",
       "<table border=\"1\" class=\"dataframe\">\n",
       "  <thead>\n",
       "    <tr style=\"text-align: right;\">\n",
       "      <th></th>\n",
       "      <th>id</th>\n",
       "      <th>keyword</th>\n",
       "      <th>location</th>\n",
       "      <th>text</th>\n",
       "      <th>target</th>\n",
       "      <th>hashtags</th>\n",
       "    </tr>\n",
       "  </thead>\n",
       "  <tbody>\n",
       "    <tr>\n",
       "      <th>0</th>\n",
       "      <td>1</td>\n",
       "      <td>NaN</td>\n",
       "      <td>NaN</td>\n",
       "      <td>deeds reason earthquake may allah forgive</td>\n",
       "      <td>1</td>\n",
       "      <td>earthquake</td>\n",
       "    </tr>\n",
       "    <tr>\n",
       "      <th>1</th>\n",
       "      <td>4</td>\n",
       "      <td>NaN</td>\n",
       "      <td>NaN</td>\n",
       "      <td>forest fire near ronge sask canada</td>\n",
       "      <td>1</td>\n",
       "      <td></td>\n",
       "    </tr>\n",
       "    <tr>\n",
       "      <th>2</th>\n",
       "      <td>5</td>\n",
       "      <td>NaN</td>\n",
       "      <td>NaN</td>\n",
       "      <td>residents asked shelter place notified officer...</td>\n",
       "      <td>1</td>\n",
       "      <td></td>\n",
       "    </tr>\n",
       "    <tr>\n",
       "      <th>3</th>\n",
       "      <td>6</td>\n",
       "      <td>NaN</td>\n",
       "      <td>NaN</td>\n",
       "      <td>people receive wildfires evacuation orders cal...</td>\n",
       "      <td>1</td>\n",
       "      <td>wildfires</td>\n",
       "    </tr>\n",
       "    <tr>\n",
       "      <th>4</th>\n",
       "      <td>7</td>\n",
       "      <td>NaN</td>\n",
       "      <td>NaN</td>\n",
       "      <td>got sent photo ruby alaska smoke wildfires pou...</td>\n",
       "      <td>1</td>\n",
       "      <td>alaska wildfires</td>\n",
       "    </tr>\n",
       "  </tbody>\n",
       "</table>\n",
       "</div>"
      ],
      "text/plain": [
       "   id keyword location                                               text  \\\n",
       "0   1     NaN      NaN          deeds reason earthquake may allah forgive   \n",
       "1   4     NaN      NaN                 forest fire near ronge sask canada   \n",
       "2   5     NaN      NaN  residents asked shelter place notified officer...   \n",
       "3   6     NaN      NaN  people receive wildfires evacuation orders cal...   \n",
       "4   7     NaN      NaN  got sent photo ruby alaska smoke wildfires pou...   \n",
       "\n",
       "   target          hashtags  \n",
       "0       1        earthquake  \n",
       "1       1                    \n",
       "2       1                    \n",
       "3       1         wildfires  \n",
       "4       1  alaska wildfires  "
      ]
     },
     "execution_count": 13,
     "metadata": {},
     "output_type": "execute_result"
    }
   ],
   "source": [
    "train.head()"
   ]
  },
  {
   "cell_type": "code",
   "execution_count": 14,
   "metadata": {
    "ExecuteTime": {
     "end_time": "2020-01-05T06:14:06.572460Z",
     "start_time": "2020-01-05T06:14:06.552460Z"
    }
   },
   "outputs": [
    {
     "data": {
      "text/plain": [
       "300"
      ]
     },
     "execution_count": 14,
     "metadata": {},
     "output_type": "execute_result"
    }
   ],
   "source": [
    "len(model.word_vec('Hi'))"
   ]
  },
  {
   "cell_type": "code",
   "execution_count": 15,
   "metadata": {
    "ExecuteTime": {
     "end_time": "2020-01-05T06:14:12.962451Z",
     "start_time": "2020-01-05T06:14:12.902451Z"
    }
   },
   "outputs": [],
   "source": [
    "def w2v_features(df,col):\n",
    "    vecs=[]\n",
    "    for text in list(df['text']):\n",
    "        words = text.split() \n",
    "        mean_vec = np.zeros(300)\n",
    "        for word in words:\n",
    "            try:\n",
    "                vec = model.word_vec(word)\n",
    "            except:\n",
    "                vec = np.zeros(300)\n",
    "            mean_vec=mean_vec+(vec)\n",
    "        mean_vec = mean_vec/(len(words)+1)\n",
    "        vecs.append(mean_vec)\n",
    "    return pd.DataFrame(vecs)\n",
    "    "
   ]
  },
  {
   "cell_type": "code",
   "execution_count": 16,
   "metadata": {
    "ExecuteTime": {
     "end_time": "2020-01-05T06:14:19.417055Z",
     "start_time": "2020-01-05T06:14:19.340978Z"
    }
   },
   "outputs": [],
   "source": [
    "def new_features(df):\n",
    "    features=w2v_features(df,'text')\n",
    "    hashfeat=w2v_features(df,'hashtags')\n",
    "    newdf=pd.concat([df,features],axis=1)\n",
    "    newdf=pd.concat([newdf,hashfeat],axis=1)\n",
    "    newdf.drop(columns=['location','text','keyword','hashtags'],inplace=True)\n",
    "    return newdf "
   ]
  },
  {
   "cell_type": "code",
   "execution_count": 17,
   "metadata": {
    "ExecuteTime": {
     "end_time": "2020-01-05T06:15:21.941284Z",
     "start_time": "2020-01-05T06:14:22.307370Z"
    }
   },
   "outputs": [],
   "source": [
    "newtrain=new_features(train)\n",
    "newtest=new_features(test)"
   ]
  },
  {
   "cell_type": "code",
   "execution_count": 18,
   "metadata": {
    "ExecuteTime": {
     "end_time": "2020-01-05T06:15:38.123281Z",
     "start_time": "2020-01-05T06:15:37.998180Z"
    }
   },
   "outputs": [
    {
     "data": {
      "text/html": [
       "<div>\n",
       "<style scoped>\n",
       "    .dataframe tbody tr th:only-of-type {\n",
       "        vertical-align: middle;\n",
       "    }\n",
       "\n",
       "    .dataframe tbody tr th {\n",
       "        vertical-align: top;\n",
       "    }\n",
       "\n",
       "    .dataframe thead th {\n",
       "        text-align: right;\n",
       "    }\n",
       "</style>\n",
       "<table border=\"1\" class=\"dataframe\">\n",
       "  <thead>\n",
       "    <tr style=\"text-align: right;\">\n",
       "      <th></th>\n",
       "      <th>id</th>\n",
       "      <th>target</th>\n",
       "      <th>0</th>\n",
       "      <th>1</th>\n",
       "      <th>2</th>\n",
       "      <th>3</th>\n",
       "      <th>4</th>\n",
       "      <th>5</th>\n",
       "      <th>6</th>\n",
       "      <th>7</th>\n",
       "      <th>...</th>\n",
       "      <th>290</th>\n",
       "      <th>291</th>\n",
       "      <th>292</th>\n",
       "      <th>293</th>\n",
       "      <th>294</th>\n",
       "      <th>295</th>\n",
       "      <th>296</th>\n",
       "      <th>297</th>\n",
       "      <th>298</th>\n",
       "      <th>299</th>\n",
       "    </tr>\n",
       "  </thead>\n",
       "  <tbody>\n",
       "    <tr>\n",
       "      <th>0</th>\n",
       "      <td>1</td>\n",
       "      <td>1</td>\n",
       "      <td>0.135219</td>\n",
       "      <td>0.064479</td>\n",
       "      <td>0.160296</td>\n",
       "      <td>0.108747</td>\n",
       "      <td>-0.034249</td>\n",
       "      <td>0.061297</td>\n",
       "      <td>0.157715</td>\n",
       "      <td>-0.025792</td>\n",
       "      <td>...</td>\n",
       "      <td>-0.070312</td>\n",
       "      <td>0.077009</td>\n",
       "      <td>-0.091518</td>\n",
       "      <td>-0.051426</td>\n",
       "      <td>0.013463</td>\n",
       "      <td>0.026117</td>\n",
       "      <td>-0.039612</td>\n",
       "      <td>-0.081839</td>\n",
       "      <td>-0.040030</td>\n",
       "      <td>0.126675</td>\n",
       "    </tr>\n",
       "    <tr>\n",
       "      <th>1</th>\n",
       "      <td>4</td>\n",
       "      <td>1</td>\n",
       "      <td>0.047224</td>\n",
       "      <td>-0.008510</td>\n",
       "      <td>-0.016868</td>\n",
       "      <td>0.059884</td>\n",
       "      <td>0.113421</td>\n",
       "      <td>-0.031564</td>\n",
       "      <td>-0.000872</td>\n",
       "      <td>-0.084630</td>\n",
       "      <td>...</td>\n",
       "      <td>-0.020578</td>\n",
       "      <td>-0.011143</td>\n",
       "      <td>-0.026367</td>\n",
       "      <td>0.083801</td>\n",
       "      <td>0.039760</td>\n",
       "      <td>0.015172</td>\n",
       "      <td>-0.119001</td>\n",
       "      <td>-0.004708</td>\n",
       "      <td>0.070382</td>\n",
       "      <td>0.003789</td>\n",
       "    </tr>\n",
       "    <tr>\n",
       "      <th>2</th>\n",
       "      <td>5</td>\n",
       "      <td>1</td>\n",
       "      <td>0.004415</td>\n",
       "      <td>0.020355</td>\n",
       "      <td>0.080750</td>\n",
       "      <td>-0.049952</td>\n",
       "      <td>-0.053772</td>\n",
       "      <td>-0.091888</td>\n",
       "      <td>0.021645</td>\n",
       "      <td>-0.014414</td>\n",
       "      <td>...</td>\n",
       "      <td>-0.118062</td>\n",
       "      <td>-0.044556</td>\n",
       "      <td>-0.148926</td>\n",
       "      <td>0.010712</td>\n",
       "      <td>0.107188</td>\n",
       "      <td>0.043055</td>\n",
       "      <td>-0.078309</td>\n",
       "      <td>0.032735</td>\n",
       "      <td>0.011322</td>\n",
       "      <td>-0.030111</td>\n",
       "    </tr>\n",
       "    <tr>\n",
       "      <th>3</th>\n",
       "      <td>6</td>\n",
       "      <td>1</td>\n",
       "      <td>0.147705</td>\n",
       "      <td>-0.081909</td>\n",
       "      <td>0.012434</td>\n",
       "      <td>0.182460</td>\n",
       "      <td>0.022095</td>\n",
       "      <td>-0.066866</td>\n",
       "      <td>-0.051200</td>\n",
       "      <td>-0.024693</td>\n",
       "      <td>...</td>\n",
       "      <td>0.147025</td>\n",
       "      <td>-0.043806</td>\n",
       "      <td>-0.019053</td>\n",
       "      <td>0.020508</td>\n",
       "      <td>0.226772</td>\n",
       "      <td>0.053855</td>\n",
       "      <td>-0.189000</td>\n",
       "      <td>0.028041</td>\n",
       "      <td>0.008161</td>\n",
       "      <td>-0.039830</td>\n",
       "    </tr>\n",
       "    <tr>\n",
       "      <th>4</th>\n",
       "      <td>7</td>\n",
       "      <td>1</td>\n",
       "      <td>0.060986</td>\n",
       "      <td>0.026184</td>\n",
       "      <td>-0.059290</td>\n",
       "      <td>0.069708</td>\n",
       "      <td>-0.013550</td>\n",
       "      <td>0.007294</td>\n",
       "      <td>0.020361</td>\n",
       "      <td>-0.146606</td>\n",
       "      <td>...</td>\n",
       "      <td>0.058154</td>\n",
       "      <td>-0.147144</td>\n",
       "      <td>-0.058820</td>\n",
       "      <td>0.061597</td>\n",
       "      <td>0.038232</td>\n",
       "      <td>-0.025232</td>\n",
       "      <td>0.017001</td>\n",
       "      <td>-0.062872</td>\n",
       "      <td>0.034241</td>\n",
       "      <td>0.047211</td>\n",
       "    </tr>\n",
       "  </tbody>\n",
       "</table>\n",
       "<p>5 rows × 602 columns</p>\n",
       "</div>"
      ],
      "text/plain": [
       "   id  target         0         1         2         3         4         5  \\\n",
       "0   1       1  0.135219  0.064479  0.160296  0.108747 -0.034249  0.061297   \n",
       "1   4       1  0.047224 -0.008510 -0.016868  0.059884  0.113421 -0.031564   \n",
       "2   5       1  0.004415  0.020355  0.080750 -0.049952 -0.053772 -0.091888   \n",
       "3   6       1  0.147705 -0.081909  0.012434  0.182460  0.022095 -0.066866   \n",
       "4   7       1  0.060986  0.026184 -0.059290  0.069708 -0.013550  0.007294   \n",
       "\n",
       "          6         7  ...       290       291       292       293       294  \\\n",
       "0  0.157715 -0.025792  ... -0.070312  0.077009 -0.091518 -0.051426  0.013463   \n",
       "1 -0.000872 -0.084630  ... -0.020578 -0.011143 -0.026367  0.083801  0.039760   \n",
       "2  0.021645 -0.014414  ... -0.118062 -0.044556 -0.148926  0.010712  0.107188   \n",
       "3 -0.051200 -0.024693  ...  0.147025 -0.043806 -0.019053  0.020508  0.226772   \n",
       "4  0.020361 -0.146606  ...  0.058154 -0.147144 -0.058820  0.061597  0.038232   \n",
       "\n",
       "        295       296       297       298       299  \n",
       "0  0.026117 -0.039612 -0.081839 -0.040030  0.126675  \n",
       "1  0.015172 -0.119001 -0.004708  0.070382  0.003789  \n",
       "2  0.043055 -0.078309  0.032735  0.011322 -0.030111  \n",
       "3  0.053855 -0.189000  0.028041  0.008161 -0.039830  \n",
       "4 -0.025232  0.017001 -0.062872  0.034241  0.047211  \n",
       "\n",
       "[5 rows x 602 columns]"
      ]
     },
     "execution_count": 18,
     "metadata": {},
     "output_type": "execute_result"
    }
   ],
   "source": [
    "newtrain.head()"
   ]
  },
  {
   "cell_type": "code",
   "execution_count": 19,
   "metadata": {
    "ExecuteTime": {
     "end_time": "2020-01-05T06:15:38.990030Z",
     "start_time": "2020-01-05T06:15:38.966030Z"
    }
   },
   "outputs": [
    {
     "data": {
      "text/plain": [
       "(7613, 602)"
      ]
     },
     "execution_count": 19,
     "metadata": {},
     "output_type": "execute_result"
    }
   ],
   "source": [
    "newtrain.shape"
   ]
  },
  {
   "cell_type": "code",
   "execution_count": 20,
   "metadata": {
    "ExecuteTime": {
     "end_time": "2020-01-05T06:15:41.513664Z",
     "start_time": "2020-01-05T06:15:41.505667Z"
    }
   },
   "outputs": [
    {
     "data": {
      "text/plain": [
       "(3263, 601)"
      ]
     },
     "execution_count": 20,
     "metadata": {},
     "output_type": "execute_result"
    }
   ],
   "source": [
    "newtest.shape"
   ]
  },
  {
   "cell_type": "code",
   "execution_count": 13,
   "metadata": {
    "ExecuteTime": {
     "end_time": "2020-01-06T09:28:33.559472Z",
     "start_time": "2020-01-06T09:27:24.662738Z"
    }
   },
   "outputs": [
    {
     "name": "stderr",
     "output_type": "stream",
     "text": [
      "Using TensorFlow backend.\n"
     ]
    }
   ],
   "source": [
    "from sklearn.preprocessing import MinMaxScaler\n",
    "from keras.initializers import RandomNormal\n",
    "from keras.models import Sequential\n",
    "from keras.layers import Dense, Dropout,BatchNormalization"
   ]
  },
  {
   "cell_type": "code",
   "execution_count": 22,
   "metadata": {
    "ExecuteTime": {
     "end_time": "2020-01-05T06:16:59.624348Z",
     "start_time": "2020-01-05T06:16:59.548343Z"
    }
   },
   "outputs": [],
   "source": [
    "Xtrain=newtrain.drop(columns=['id','target'])\n",
    "ytrain=newtrain['target']"
   ]
  },
  {
   "cell_type": "code",
   "execution_count": 23,
   "metadata": {
    "ExecuteTime": {
     "end_time": "2020-01-05T06:17:00.297881Z",
     "start_time": "2020-01-05T06:17:00.201861Z"
    }
   },
   "outputs": [],
   "source": [
    "Xtestid=newtest['id']\n",
    "Xtest=newtest.drop(columns=['id'])"
   ]
  },
  {
   "cell_type": "code",
   "execution_count": 24,
   "metadata": {
    "ExecuteTime": {
     "end_time": "2020-01-05T06:17:02.443251Z",
     "start_time": "2020-01-05T06:17:02.435251Z"
    }
   },
   "outputs": [],
   "source": [
    "mm=MinMaxScaler()"
   ]
  },
  {
   "cell_type": "code",
   "execution_count": 25,
   "metadata": {
    "ExecuteTime": {
     "end_time": "2020-01-05T06:17:03.666784Z",
     "start_time": "2020-01-05T06:17:03.232215Z"
    }
   },
   "outputs": [],
   "source": [
    "Xtrain=mm.fit_transform(Xtrain)"
   ]
  },
  {
   "cell_type": "code",
   "execution_count": 26,
   "metadata": {
    "ExecuteTime": {
     "end_time": "2020-01-05T06:17:04.768418Z",
     "start_time": "2020-01-05T06:17:04.736418Z"
    }
   },
   "outputs": [],
   "source": [
    "Xtest=mm.transform(Xtest)"
   ]
  },
  {
   "cell_type": "code",
   "execution_count": 27,
   "metadata": {
    "ExecuteTime": {
     "end_time": "2020-01-05T06:17:06.521854Z",
     "start_time": "2020-01-05T06:17:06.509837Z"
    }
   },
   "outputs": [
    {
     "data": {
      "text/plain": [
       "(7613, 600)"
      ]
     },
     "execution_count": 27,
     "metadata": {},
     "output_type": "execute_result"
    }
   ],
   "source": [
    "Xtrain.shape"
   ]
  },
  {
   "cell_type": "code",
   "execution_count": 28,
   "metadata": {
    "ExecuteTime": {
     "end_time": "2020-01-05T06:17:15.777746Z",
     "start_time": "2020-01-05T06:17:09.835747Z"
    }
   },
   "outputs": [
    {
     "name": "stdout",
     "output_type": "stream",
     "text": [
      "WARNING:tensorflow:From C:\\Users\\haricharan\\Anaconda\\lib\\site-packages\\keras\\backend\\tensorflow_backend.py:74: The name tf.get_default_graph is deprecated. Please use tf.compat.v1.get_default_graph instead.\n",
      "\n",
      "WARNING:tensorflow:From C:\\Users\\haricharan\\Anaconda\\lib\\site-packages\\keras\\backend\\tensorflow_backend.py:517: The name tf.placeholder is deprecated. Please use tf.compat.v1.placeholder instead.\n",
      "\n",
      "WARNING:tensorflow:From C:\\Users\\haricharan\\Anaconda\\lib\\site-packages\\keras\\backend\\tensorflow_backend.py:4138: The name tf.random_uniform is deprecated. Please use tf.random.uniform instead.\n",
      "\n",
      "WARNING:tensorflow:From C:\\Users\\haricharan\\Anaconda\\lib\\site-packages\\keras\\backend\\tensorflow_backend.py:133: The name tf.placeholder_with_default is deprecated. Please use tf.compat.v1.placeholder_with_default instead.\n",
      "\n",
      "WARNING:tensorflow:From C:\\Users\\haricharan\\Anaconda\\lib\\site-packages\\keras\\backend\\tensorflow_backend.py:3445: calling dropout (from tensorflow.python.ops.nn_ops) with keep_prob is deprecated and will be removed in a future version.\n",
      "Instructions for updating:\n",
      "Please use `rate` instead of `keep_prob`. Rate should be set to `rate = 1 - keep_prob`.\n"
     ]
    }
   ],
   "source": [
    "model1 = Sequential()\n",
    "model1.add(Dense(300, input_dim=600, activation='relu'))\n",
    "model1.add(Dropout(0.5))\n",
    "model1.add(Dense(100, activation='relu'))\n",
    "model1.add(Dropout(0.5))\n",
    "model1.add(Dense(10, activation='relu'))\n",
    "model1.add(BatchNormalization())\n",
    "model1.add(Dropout(0.5))\n",
    "model1.add(Dense(1, activation='sigmoid'))"
   ]
  },
  {
   "cell_type": "code",
   "execution_count": 29,
   "metadata": {
    "ExecuteTime": {
     "end_time": "2020-01-05T06:17:28.501682Z",
     "start_time": "2020-01-05T06:17:28.489683Z"
    }
   },
   "outputs": [
    {
     "name": "stdout",
     "output_type": "stream",
     "text": [
      "_________________________________________________________________\n",
      "Layer (type)                 Output Shape              Param #   \n",
      "=================================================================\n",
      "dense_1 (Dense)              (None, 300)               180300    \n",
      "_________________________________________________________________\n",
      "dropout_1 (Dropout)          (None, 300)               0         \n",
      "_________________________________________________________________\n",
      "dense_2 (Dense)              (None, 100)               30100     \n",
      "_________________________________________________________________\n",
      "dropout_2 (Dropout)          (None, 100)               0         \n",
      "_________________________________________________________________\n",
      "dense_3 (Dense)              (None, 10)                1010      \n",
      "_________________________________________________________________\n",
      "batch_normalization_1 (Batch (None, 10)                40        \n",
      "_________________________________________________________________\n",
      "dropout_3 (Dropout)          (None, 10)                0         \n",
      "_________________________________________________________________\n",
      "dense_4 (Dense)              (None, 1)                 11        \n",
      "=================================================================\n",
      "Total params: 211,461\n",
      "Trainable params: 211,441\n",
      "Non-trainable params: 20\n",
      "_________________________________________________________________\n"
     ]
    }
   ],
   "source": [
    "model1.summary()"
   ]
  },
  {
   "cell_type": "code",
   "execution_count": 32,
   "metadata": {
    "ExecuteTime": {
     "end_time": "2020-01-05T06:22:56.417170Z",
     "start_time": "2020-01-05T06:19:05.482105Z"
    }
   },
   "outputs": [
    {
     "name": "stdout",
     "output_type": "stream",
     "text": [
      "WARNING:tensorflow:From C:\\Users\\haricharan\\Anaconda\\lib\\site-packages\\keras\\optimizers.py:790: The name tf.train.Optimizer is deprecated. Please use tf.compat.v1.train.Optimizer instead.\n",
      "\n",
      "WARNING:tensorflow:From C:\\Users\\haricharan\\Anaconda\\lib\\site-packages\\keras\\backend\\tensorflow_backend.py:3376: The name tf.log is deprecated. Please use tf.math.log instead.\n",
      "\n",
      "WARNING:tensorflow:From C:\\Users\\haricharan\\Anaconda\\lib\\site-packages\\tensorflow\\python\\ops\\nn_impl.py:180: add_dispatch_support.<locals>.wrapper (from tensorflow.python.ops.array_ops) is deprecated and will be removed in a future version.\n",
      "Instructions for updating:\n",
      "Use tf.where in 2.0, which has the same broadcast rule as np.where\n",
      "Epoch 1/300\n",
      "7613/7613 [==============================] - 7s 954us/step - loss: 0.9555 - acc: 0.5225\n",
      "Epoch 2/300\n",
      "7613/7613 [==============================] - 1s 91us/step - loss: 0.8830 - acc: 0.5144\n",
      "Epoch 3/300\n",
      "7613/7613 [==============================] - 1s 94us/step - loss: 0.8021 - acc: 0.5271\n",
      "Epoch 4/300\n",
      "7613/7613 [==============================] - 1s 131us/step - loss: 0.7600 - acc: 0.5240\n",
      "Epoch 5/300\n",
      "7613/7613 [==============================] - 1s 121us/step - loss: 0.7352 - acc: 0.5290 0s - loss: 0.7366 - acc: 0.527\n",
      "Epoch 6/300\n",
      "7613/7613 [==============================] - 1s 101us/step - loss: 0.7084 - acc: 0.5567 0s - loss: 0.7115 - acc: 0.55\n",
      "Epoch 7/300\n",
      "7613/7613 [==============================] - 1s 104us/step - loss: 0.6174 - acc: 0.6779\n",
      "Epoch 8/300\n",
      "7613/7613 [==============================] - 1s 90us/step - loss: 0.5619 - acc: 0.7379\n",
      "Epoch 9/300\n",
      "7613/7613 [==============================] - 1s 91us/step - loss: 0.5474 - acc: 0.7454\n",
      "Epoch 10/300\n",
      "7613/7613 [==============================] - 1s 96us/step - loss: 0.5384 - acc: 0.7540\n",
      "Epoch 11/300\n",
      "7613/7613 [==============================] - 1s 94us/step - loss: 0.5325 - acc: 0.7575\n",
      "Epoch 12/300\n",
      "7613/7613 [==============================] - 1s 122us/step - loss: 0.5312 - acc: 0.7557\n",
      "Epoch 13/300\n",
      "7613/7613 [==============================] - 1s 95us/step - loss: 0.5309 - acc: 0.7588\n",
      "Epoch 14/300\n",
      "7613/7613 [==============================] - 1s 95us/step - loss: 0.5195 - acc: 0.7659\n",
      "Epoch 15/300\n",
      "7613/7613 [==============================] - 1s 114us/step - loss: 0.5158 - acc: 0.7646\n",
      "Epoch 16/300\n",
      "7613/7613 [==============================] - 1s 94us/step - loss: 0.5173 - acc: 0.7671\n",
      "Epoch 17/300\n",
      "7613/7613 [==============================] - 1s 91us/step - loss: 0.5181 - acc: 0.7634\n",
      "Epoch 18/300\n",
      "7613/7613 [==============================] - 1s 92us/step - loss: 0.5112 - acc: 0.7703\n",
      "Epoch 19/300\n",
      "7613/7613 [==============================] - 1s 90us/step - loss: 0.5110 - acc: 0.7703\n",
      "Epoch 20/300\n",
      "7613/7613 [==============================] - 1s 90us/step - loss: 0.5115 - acc: 0.7730\n",
      "Epoch 21/300\n",
      "7613/7613 [==============================] - 1s 91us/step - loss: 0.5079 - acc: 0.7709\n",
      "Epoch 22/300\n",
      "7613/7613 [==============================] - 1s 116us/step - loss: 0.5097 - acc: 0.7756\n",
      "Epoch 23/300\n",
      "7613/7613 [==============================] - 1s 95us/step - loss: 0.5073 - acc: 0.7745\n",
      "Epoch 24/300\n",
      "7613/7613 [==============================] - 1s 100us/step - loss: 0.5021 - acc: 0.7780\n",
      "Epoch 25/300\n",
      "7613/7613 [==============================] - 1s 100us/step - loss: 0.5028 - acc: 0.7743\n",
      "Epoch 26/300\n",
      "7613/7613 [==============================] - 1s 101us/step - loss: 0.5061 - acc: 0.7753\n",
      "Epoch 27/300\n",
      "7613/7613 [==============================] - 1s 96us/step - loss: 0.4995 - acc: 0.7795\n",
      "Epoch 28/300\n",
      "7613/7613 [==============================] - 1s 121us/step - loss: 0.5029 - acc: 0.7804\n",
      "Epoch 29/300\n",
      "7613/7613 [==============================] - 1s 92us/step - loss: 0.4965 - acc: 0.7783\n",
      "Epoch 30/300\n",
      "7613/7613 [==============================] - 1s 91us/step - loss: 0.4996 - acc: 0.7768\n",
      "Epoch 31/300\n",
      "7613/7613 [==============================] - 1s 117us/step - loss: 0.4953 - acc: 0.7792\n",
      "Epoch 32/300\n",
      "7613/7613 [==============================] - 1s 119us/step - loss: 0.4884 - acc: 0.7802\n",
      "Epoch 33/300\n",
      "7613/7613 [==============================] - 1s 92us/step - loss: 0.4952 - acc: 0.7804\n",
      "Epoch 34/300\n",
      "7613/7613 [==============================] - 1s 93us/step - loss: 0.4887 - acc: 0.7767\n",
      "Epoch 35/300\n",
      "7613/7613 [==============================] - 1s 92us/step - loss: 0.4823 - acc: 0.7889\n",
      "Epoch 36/300\n",
      "7613/7613 [==============================] - 1s 91us/step - loss: 0.4927 - acc: 0.7841\n",
      "Epoch 37/300\n",
      "7613/7613 [==============================] - 1s 95us/step - loss: 0.4886 - acc: 0.7837\n",
      "Epoch 38/300\n",
      "7613/7613 [==============================] - 1s 92us/step - loss: 0.4875 - acc: 0.7877\n",
      "Epoch 39/300\n",
      "7613/7613 [==============================] - 1s 94us/step - loss: 0.4834 - acc: 0.7847\n",
      "Epoch 40/300\n",
      "7613/7613 [==============================] - ETA: 0s - loss: 0.4918 - acc: 0.782 - 1s 111us/step - loss: 0.4919 - acc: 0.7825\n",
      "Epoch 41/300\n",
      "7613/7613 [==============================] - 1s 95us/step - loss: 0.4927 - acc: 0.7831: 0s - loss: 0.4916 - acc: 0.7\n",
      "Epoch 42/300\n",
      "7613/7613 [==============================] - 1s 95us/step - loss: 0.4868 - acc: 0.7831: 0s - loss: 0.4824 - acc: 0.\n",
      "Epoch 43/300\n",
      "7613/7613 [==============================] - 1s 95us/step - loss: 0.4809 - acc: 0.7881\n",
      "Epoch 44/300\n",
      "7613/7613 [==============================] - 1s 93us/step - loss: 0.4837 - acc: 0.7889\n",
      "Epoch 45/300\n",
      "7613/7613 [==============================] - 1s 95us/step - loss: 0.4837 - acc: 0.7901\n",
      "Epoch 46/300\n",
      "7613/7613 [==============================] - 1s 95us/step - loss: 0.4900 - acc: 0.7804\n",
      "Epoch 47/300\n",
      "7613/7613 [==============================] - 1s 101us/step - loss: 0.4816 - acc: 0.7879\n",
      "Epoch 48/300\n",
      "7613/7613 [==============================] - 1s 93us/step - loss: 0.4844 - acc: 0.7805\n",
      "Epoch 49/300\n",
      "7613/7613 [==============================] - 1s 92us/step - loss: 0.4788 - acc: 0.7871\n",
      "Epoch 50/300\n",
      "7613/7613 [==============================] - 1s 129us/step - loss: 0.4787 - acc: 0.7873\n",
      "Epoch 51/300\n",
      "7613/7613 [==============================] - 1s 123us/step - loss: 0.4794 - acc: 0.7859\n",
      "Epoch 52/300\n",
      "7613/7613 [==============================] - 1s 116us/step - loss: 0.4799 - acc: 0.7876\n",
      "Epoch 53/300\n",
      "7613/7613 [==============================] - 1s 155us/step - loss: 0.4747 - acc: 0.7889\n",
      "Epoch 54/300\n",
      "7613/7613 [==============================] - 1s 128us/step - loss: 0.4769 - acc: 0.7913 1s - loss: 0.47\n",
      "Epoch 55/300\n",
      "7613/7613 [==============================] - 1s 122us/step - loss: 0.4755 - acc: 0.7892\n",
      "Epoch 56/300\n",
      "7613/7613 [==============================] - 1s 99us/step - loss: 0.4848 - acc: 0.7872\n",
      "Epoch 57/300\n",
      "7613/7613 [==============================] - 1s 95us/step - loss: 0.4810 - acc: 0.7854\n",
      "Epoch 58/300\n",
      "7613/7613 [==============================] - 1s 116us/step - loss: 0.4747 - acc: 0.7902\n",
      "Epoch 59/300\n",
      "7613/7613 [==============================] - 1s 135us/step - loss: 0.4792 - acc: 0.7860\n",
      "Epoch 60/300\n",
      "7613/7613 [==============================] - 1s 121us/step - loss: 0.4764 - acc: 0.7923\n",
      "Epoch 61/300\n",
      "7613/7613 [==============================] - 1s 94us/step - loss: 0.4751 - acc: 0.7881\n",
      "Epoch 62/300\n",
      "7613/7613 [==============================] - 1s 96us/step - loss: 0.4817 - acc: 0.7889\n",
      "Epoch 63/300\n",
      "7613/7613 [==============================] - 1s 116us/step - loss: 0.4770 - acc: 0.7900\n",
      "Epoch 64/300\n",
      "7613/7613 [==============================] - 1s 95us/step - loss: 0.4754 - acc: 0.7893\n",
      "Epoch 65/300\n",
      "7613/7613 [==============================] - 1s 92us/step - loss: 0.4749 - acc: 0.7896\n",
      "Epoch 66/300\n",
      "7613/7613 [==============================] - 1s 95us/step - loss: 0.4735 - acc: 0.7897\n",
      "Epoch 67/300\n",
      "7613/7613 [==============================] - 1s 124us/step - loss: 0.4640 - acc: 0.7911\n",
      "Epoch 68/300\n",
      "7613/7613 [==============================] - 1s 101us/step - loss: 0.4691 - acc: 0.7931\n",
      "Epoch 69/300\n",
      "7613/7613 [==============================] - 1s 97us/step - loss: 0.4746 - acc: 0.7929\n",
      "Epoch 70/300\n",
      "7613/7613 [==============================] - 1s 98us/step - loss: 0.4725 - acc: 0.7921\n",
      "Epoch 71/300\n",
      "7613/7613 [==============================] - 1s 162us/step - loss: 0.4680 - acc: 0.7980\n",
      "Epoch 72/300\n",
      "7613/7613 [==============================] - 1s 128us/step - loss: 0.4740 - acc: 0.7885\n",
      "Epoch 73/300\n",
      "7613/7613 [==============================] - 1s 98us/step - loss: 0.4696 - acc: 0.7942\n"
     ]
    },
    {
     "name": "stdout",
     "output_type": "stream",
     "text": [
      "Epoch 74/300\n",
      "7613/7613 [==============================] - 1s 102us/step - loss: 0.4681 - acc: 0.7965\n",
      "Epoch 75/300\n",
      "7613/7613 [==============================] - 1s 126us/step - loss: 0.4778 - acc: 0.7852\n",
      "Epoch 76/300\n",
      "7613/7613 [==============================] - 1s 109us/step - loss: 0.4697 - acc: 0.7940\n",
      "Epoch 77/300\n",
      "7613/7613 [==============================] - 1s 125us/step - loss: 0.4668 - acc: 0.7975\n",
      "Epoch 78/300\n",
      "7613/7613 [==============================] - 1s 120us/step - loss: 0.4744 - acc: 0.7929 0s - loss: 0.4687 - acc:\n",
      "Epoch 79/300\n",
      "7613/7613 [==============================] - 1s 154us/step - loss: 0.4692 - acc: 0.7965\n",
      "Epoch 80/300\n",
      "7613/7613 [==============================] - 1s 91us/step - loss: 0.4679 - acc: 0.7954\n",
      "Epoch 81/300\n",
      "7613/7613 [==============================] - 1s 90us/step - loss: 0.4674 - acc: 0.7936\n",
      "Epoch 82/300\n",
      "7613/7613 [==============================] - 1s 90us/step - loss: 0.4693 - acc: 0.7951\n",
      "Epoch 83/300\n",
      "7613/7613 [==============================] - 1s 89us/step - loss: 0.4704 - acc: 0.7918\n",
      "Epoch 84/300\n",
      "7613/7613 [==============================] - 1s 89us/step - loss: 0.4663 - acc: 0.7910\n",
      "Epoch 85/300\n",
      "7613/7613 [==============================] - 1s 91us/step - loss: 0.4671 - acc: 0.7963\n",
      "Epoch 86/300\n",
      "7613/7613 [==============================] - 1s 90us/step - loss: 0.4699 - acc: 0.7929\n",
      "Epoch 87/300\n",
      "7613/7613 [==============================] - 1s 90us/step - loss: 0.4643 - acc: 0.7994\n",
      "Epoch 88/300\n",
      "7613/7613 [==============================] - 1s 90us/step - loss: 0.4679 - acc: 0.7931\n",
      "Epoch 89/300\n",
      "7613/7613 [==============================] - 1s 90us/step - loss: 0.4644 - acc: 0.7969\n",
      "Epoch 90/300\n",
      "7613/7613 [==============================] - 1s 89us/step - loss: 0.4664 - acc: 0.7926\n",
      "Epoch 91/300\n",
      "7613/7613 [==============================] - 1s 90us/step - loss: 0.4629 - acc: 0.7978: 0s - loss: 0.4629 - acc: 0.797\n",
      "Epoch 92/300\n",
      "7613/7613 [==============================] - 1s 90us/step - loss: 0.4684 - acc: 0.7926\n",
      "Epoch 93/300\n",
      "7613/7613 [==============================] - 1s 91us/step - loss: 0.4647 - acc: 0.7911: 0s - loss: 0.4629 - acc\n",
      "Epoch 94/300\n",
      "7613/7613 [==============================] - 1s 92us/step - loss: 0.4646 - acc: 0.7947\n",
      "Epoch 95/300\n",
      "7613/7613 [==============================] - 1s 92us/step - loss: 0.4686 - acc: 0.7875\n",
      "Epoch 96/300\n",
      "7613/7613 [==============================] - 1s 89us/step - loss: 0.4657 - acc: 0.7965\n",
      "Epoch 97/300\n",
      "7613/7613 [==============================] - 1s 88us/step - loss: 0.4655 - acc: 0.8015\n",
      "Epoch 98/300\n",
      "7613/7613 [==============================] - 1s 90us/step - loss: 0.4662 - acc: 0.7935\n",
      "Epoch 99/300\n",
      "7613/7613 [==============================] - 1s 90us/step - loss: 0.4662 - acc: 0.7946\n",
      "Epoch 100/300\n",
      "7613/7613 [==============================] - 1s 88us/step - loss: 0.4668 - acc: 0.7965\n",
      "Epoch 101/300\n",
      "7613/7613 [==============================] - 1s 89us/step - loss: 0.4711 - acc: 0.7930\n",
      "Epoch 102/300\n",
      "7613/7613 [==============================] - 1s 89us/step - loss: 0.4689 - acc: 0.7917\n",
      "Epoch 103/300\n",
      "7613/7613 [==============================] - 1s 88us/step - loss: 0.4637 - acc: 0.7990\n",
      "Epoch 104/300\n",
      "7613/7613 [==============================] - 1s 88us/step - loss: 0.4731 - acc: 0.7950\n",
      "Epoch 105/300\n",
      "7613/7613 [==============================] - 1s 89us/step - loss: 0.4624 - acc: 0.7939\n",
      "Epoch 106/300\n",
      "7613/7613 [==============================] - 1s 86us/step - loss: 0.4603 - acc: 0.7950\n",
      "Epoch 107/300\n",
      "7613/7613 [==============================] - 1s 87us/step - loss: 0.4618 - acc: 0.7954\n",
      "Epoch 108/300\n",
      "7613/7613 [==============================] - 1s 89us/step - loss: 0.4586 - acc: 0.7961\n",
      "Epoch 109/300\n",
      "7613/7613 [==============================] - 1s 89us/step - loss: 0.4553 - acc: 0.8017\n",
      "Epoch 110/300\n",
      "7613/7613 [==============================] - 1s 90us/step - loss: 0.4642 - acc: 0.7959\n",
      "Epoch 111/300\n",
      "7613/7613 [==============================] - 1s 89us/step - loss: 0.4630 - acc: 0.8001\n",
      "Epoch 112/300\n",
      "7613/7613 [==============================] - 1s 88us/step - loss: 0.4633 - acc: 0.7964: 0s - loss: 0.4629 - acc: 0\n",
      "Epoch 113/300\n",
      "7613/7613 [==============================] - 1s 88us/step - loss: 0.4656 - acc: 0.7956\n",
      "Epoch 114/300\n",
      "7613/7613 [==============================] - 1s 88us/step - loss: 0.4644 - acc: 0.7986\n",
      "Epoch 115/300\n",
      "7613/7613 [==============================] - 1s 87us/step - loss: 0.4637 - acc: 0.7993\n",
      "Epoch 116/300\n",
      "7613/7613 [==============================] - 1s 89us/step - loss: 0.4616 - acc: 0.7956\n",
      "Epoch 117/300\n",
      "7613/7613 [==============================] - 1s 89us/step - loss: 0.4619 - acc: 0.7988\n",
      "Epoch 118/300\n",
      "7613/7613 [==============================] - 1s 89us/step - loss: 0.4712 - acc: 0.7894\n",
      "Epoch 119/300\n",
      "7613/7613 [==============================] - 1s 89us/step - loss: 0.4643 - acc: 0.7975\n",
      "Epoch 120/300\n",
      "7613/7613 [==============================] - 1s 88us/step - loss: 0.4607 - acc: 0.7955\n",
      "Epoch 121/300\n",
      "7613/7613 [==============================] - 1s 88us/step - loss: 0.4568 - acc: 0.8026\n",
      "Epoch 122/300\n",
      "7613/7613 [==============================] - 1s 89us/step - loss: 0.4630 - acc: 0.7955\n",
      "Epoch 123/300\n",
      "7613/7613 [==============================] - 1s 134us/step - loss: 0.4637 - acc: 0.7932\n",
      "Epoch 124/300\n",
      "7613/7613 [==============================] - 1s 97us/step - loss: 0.4664 - acc: 0.7950\n",
      "Epoch 125/300\n",
      "7613/7613 [==============================] - 1s 88us/step - loss: 0.4568 - acc: 0.7976\n",
      "Epoch 126/300\n",
      "7613/7613 [==============================] - 1s 89us/step - loss: 0.4628 - acc: 0.7963\n",
      "Epoch 127/300\n",
      "7613/7613 [==============================] - 1s 89us/step - loss: 0.4567 - acc: 0.7989\n",
      "Epoch 128/300\n",
      "7613/7613 [==============================] - 1s 90us/step - loss: 0.4545 - acc: 0.8003\n",
      "Epoch 129/300\n",
      "7613/7613 [==============================] - 1s 88us/step - loss: 0.4626 - acc: 0.7939\n",
      "Epoch 130/300\n",
      "7613/7613 [==============================] - 1s 88us/step - loss: 0.4604 - acc: 0.8011\n",
      "Epoch 131/300\n",
      "7613/7613 [==============================] - 1s 88us/step - loss: 0.4540 - acc: 0.8052\n",
      "Epoch 132/300\n",
      "7613/7613 [==============================] - 1s 90us/step - loss: 0.4619 - acc: 0.7975\n",
      "Epoch 133/300\n",
      "7613/7613 [==============================] - 1s 90us/step - loss: 0.4531 - acc: 0.7975\n",
      "Epoch 134/300\n",
      "7613/7613 [==============================] - 1s 90us/step - loss: 0.4635 - acc: 0.7957\n",
      "Epoch 135/300\n",
      "7613/7613 [==============================] - 1s 88us/step - loss: 0.4631 - acc: 0.7954\n",
      "Epoch 136/300\n",
      "7613/7613 [==============================] - 1s 90us/step - loss: 0.4591 - acc: 0.7988\n",
      "Epoch 137/300\n",
      "7613/7613 [==============================] - 1s 90us/step - loss: 0.4579 - acc: 0.7957\n",
      "Epoch 138/300\n",
      "7613/7613 [==============================] - 1s 89us/step - loss: 0.4633 - acc: 0.7957\n",
      "Epoch 139/300\n",
      "7613/7613 [==============================] - 1s 90us/step - loss: 0.4606 - acc: 0.7975\n",
      "Epoch 140/300\n",
      "7613/7613 [==============================] - 1s 90us/step - loss: 0.4605 - acc: 0.7978\n",
      "Epoch 141/300\n",
      "7613/7613 [==============================] - 1s 94us/step - loss: 0.4580 - acc: 0.7998: 0s - loss: 0.4606 - acc\n",
      "Epoch 142/300\n",
      "7613/7613 [==============================] - 1s 89us/step - loss: 0.4587 - acc: 0.8003\n",
      "Epoch 143/300\n",
      "7613/7613 [==============================] - 1s 89us/step - loss: 0.4627 - acc: 0.7950\n",
      "Epoch 144/300\n",
      "7613/7613 [==============================] - 1s 89us/step - loss: 0.4648 - acc: 0.7940\n",
      "Epoch 145/300\n",
      "7613/7613 [==============================] - 1s 88us/step - loss: 0.4526 - acc: 0.7981\n",
      "Epoch 146/300\n",
      "7613/7613 [==============================] - 1s 88us/step - loss: 0.4590 - acc: 0.7972\n",
      "Epoch 147/300\n",
      "7613/7613 [==============================] - 1s 89us/step - loss: 0.4542 - acc: 0.8001\n",
      "Epoch 148/300\n",
      "7613/7613 [==============================] - 1s 88us/step - loss: 0.4572 - acc: 0.7993\n",
      "Epoch 149/300\n",
      "7613/7613 [==============================] - 1s 88us/step - loss: 0.4564 - acc: 0.7950\n",
      "Epoch 150/300\n",
      "7613/7613 [==============================] - 1s 88us/step - loss: 0.4568 - acc: 0.8045\n",
      "Epoch 151/300\n",
      "7613/7613 [==============================] - 1s 89us/step - loss: 0.4604 - acc: 0.7975\n",
      "Epoch 152/300\n",
      "7613/7613 [==============================] - 1s 89us/step - loss: 0.4569 - acc: 0.7976\n",
      "Epoch 153/300\n",
      "7613/7613 [==============================] - 1s 89us/step - loss: 0.4597 - acc: 0.7939\n"
     ]
    },
    {
     "name": "stdout",
     "output_type": "stream",
     "text": [
      "Epoch 154/300\n",
      "7613/7613 [==============================] - 1s 87us/step - loss: 0.4484 - acc: 0.8007\n",
      "Epoch 155/300\n",
      "7613/7613 [==============================] - 1s 87us/step - loss: 0.4608 - acc: 0.7950\n",
      "Epoch 156/300\n",
      "7613/7613 [==============================] - 1s 88us/step - loss: 0.4536 - acc: 0.7999\n",
      "Epoch 157/300\n",
      "7613/7613 [==============================] - 1s 86us/step - loss: 0.4552 - acc: 0.7959\n",
      "Epoch 158/300\n",
      "7613/7613 [==============================] - 1s 87us/step - loss: 0.4545 - acc: 0.7975\n",
      "Epoch 159/300\n",
      "7613/7613 [==============================] - 1s 88us/step - loss: 0.4601 - acc: 0.7935: 0s - loss: 0.4791 - ac\n",
      "Epoch 160/300\n",
      "7613/7613 [==============================] - 1s 86us/step - loss: 0.4546 - acc: 0.7929\n",
      "Epoch 161/300\n",
      "7613/7613 [==============================] - 1s 88us/step - loss: 0.4599 - acc: 0.7963\n",
      "Epoch 162/300\n",
      "7613/7613 [==============================] - 1s 87us/step - loss: 0.4536 - acc: 0.7954\n",
      "Epoch 163/300\n",
      "7613/7613 [==============================] - 1s 87us/step - loss: 0.4563 - acc: 0.7963\n",
      "Epoch 164/300\n",
      "7613/7613 [==============================] - 1s 88us/step - loss: 0.4551 - acc: 0.7990\n",
      "Epoch 165/300\n",
      "7613/7613 [==============================] - 1s 87us/step - loss: 0.4510 - acc: 0.7996\n",
      "Epoch 166/300\n",
      "7613/7613 [==============================] - 1s 87us/step - loss: 0.4582 - acc: 0.7990\n",
      "Epoch 167/300\n",
      "7613/7613 [==============================] - 1s 88us/step - loss: 0.4460 - acc: 0.8038\n",
      "Epoch 168/300\n",
      "7613/7613 [==============================] - 1s 90us/step - loss: 0.4496 - acc: 0.8030\n",
      "Epoch 169/300\n",
      "7613/7613 [==============================] - 1s 88us/step - loss: 0.4513 - acc: 0.8049\n",
      "Epoch 170/300\n",
      "7613/7613 [==============================] - 1s 88us/step - loss: 0.4485 - acc: 0.7984\n",
      "Epoch 171/300\n",
      "7613/7613 [==============================] - 1s 88us/step - loss: 0.4545 - acc: 0.7922\n",
      "Epoch 172/300\n",
      "7613/7613 [==============================] - 1s 87us/step - loss: 0.4578 - acc: 0.8056\n",
      "Epoch 173/300\n",
      "7613/7613 [==============================] - 1s 88us/step - loss: 0.4553 - acc: 0.7955\n",
      "Epoch 174/300\n",
      "7613/7613 [==============================] - 1s 87us/step - loss: 0.4504 - acc: 0.8014\n",
      "Epoch 175/300\n",
      "7613/7613 [==============================] - 1s 87us/step - loss: 0.4504 - acc: 0.8023\n",
      "Epoch 176/300\n",
      "7613/7613 [==============================] - 1s 88us/step - loss: 0.4593 - acc: 0.7977\n",
      "Epoch 177/300\n",
      "7613/7613 [==============================] - 1s 87us/step - loss: 0.4572 - acc: 0.8013\n",
      "Epoch 178/300\n",
      "7613/7613 [==============================] - 1s 87us/step - loss: 0.4553 - acc: 0.7996\n",
      "Epoch 179/300\n",
      "7613/7613 [==============================] - 1s 88us/step - loss: 0.4488 - acc: 0.8036\n",
      "Epoch 180/300\n",
      "7613/7613 [==============================] - 1s 87us/step - loss: 0.4554 - acc: 0.7936\n",
      "Epoch 181/300\n",
      "7613/7613 [==============================] - 1s 88us/step - loss: 0.4517 - acc: 0.7992\n",
      "Epoch 182/300\n",
      "7613/7613 [==============================] - 1s 88us/step - loss: 0.4567 - acc: 0.7956\n",
      "Epoch 183/300\n",
      "7613/7613 [==============================] - 1s 88us/step - loss: 0.4583 - acc: 0.7968\n",
      "Epoch 184/300\n",
      "7613/7613 [==============================] - 1s 106us/step - loss: 0.4531 - acc: 0.8005\n",
      "Epoch 185/300\n",
      "7613/7613 [==============================] - 1s 93us/step - loss: 0.4510 - acc: 0.7980\n",
      "Epoch 186/300\n",
      "7613/7613 [==============================] - 1s 88us/step - loss: 0.4471 - acc: 0.8036\n",
      "Epoch 187/300\n",
      "7613/7613 [==============================] - 1s 87us/step - loss: 0.4483 - acc: 0.8030\n",
      "Epoch 188/300\n",
      "7613/7613 [==============================] - 1s 87us/step - loss: 0.4505 - acc: 0.8045\n",
      "Epoch 189/300\n",
      "7613/7613 [==============================] - 1s 88us/step - loss: 0.4524 - acc: 0.7986\n",
      "Epoch 190/300\n",
      "7613/7613 [==============================] - 1s 88us/step - loss: 0.4526 - acc: 0.7977\n",
      "Epoch 191/300\n",
      "7613/7613 [==============================] - 1s 88us/step - loss: 0.4512 - acc: 0.7986\n",
      "Epoch 192/300\n",
      "7613/7613 [==============================] - 1s 90us/step - loss: 0.4506 - acc: 0.8009\n",
      "Epoch 193/300\n",
      "7613/7613 [==============================] - 1s 91us/step - loss: 0.4548 - acc: 0.8019\n",
      "Epoch 194/300\n",
      "7613/7613 [==============================] - 1s 89us/step - loss: 0.4522 - acc: 0.8030\n",
      "Epoch 195/300\n",
      "7613/7613 [==============================] - 1s 90us/step - loss: 0.4528 - acc: 0.8010\n",
      "Epoch 196/300\n",
      "7613/7613 [==============================] - 1s 90us/step - loss: 0.4543 - acc: 0.8020\n",
      "Epoch 197/300\n",
      "7613/7613 [==============================] - 1s 91us/step - loss: 0.4520 - acc: 0.7984\n",
      "Epoch 198/300\n",
      "7613/7613 [==============================] - 1s 90us/step - loss: 0.4535 - acc: 0.8017\n",
      "Epoch 199/300\n",
      "7613/7613 [==============================] - 1s 90us/step - loss: 0.4521 - acc: 0.8001\n",
      "Epoch 200/300\n",
      "7613/7613 [==============================] - 1s 90us/step - loss: 0.4478 - acc: 0.8048\n",
      "Epoch 201/300\n",
      "7613/7613 [==============================] - 1s 92us/step - loss: 0.4487 - acc: 0.8045\n",
      "Epoch 202/300\n",
      "7613/7613 [==============================] - 1s 92us/step - loss: 0.4560 - acc: 0.7959\n",
      "Epoch 203/300\n",
      "7613/7613 [==============================] - ETA: 0s - loss: 0.4479 - acc: 0.802 - 1s 91us/step - loss: 0.4505 - acc: 0.8024\n",
      "Epoch 204/300\n",
      "7613/7613 [==============================] - 1s 96us/step - loss: 0.4572 - acc: 0.8009\n",
      "Epoch 205/300\n",
      "7613/7613 [==============================] - 1s 94us/step - loss: 0.4527 - acc: 0.7988\n",
      "Epoch 206/300\n",
      "7613/7613 [==============================] - 1s 131us/step - loss: 0.4486 - acc: 0.8005\n",
      "Epoch 207/300\n",
      "7613/7613 [==============================] - 1s 159us/step - loss: 0.4476 - acc: 0.8005\n",
      "Epoch 208/300\n",
      "7613/7613 [==============================] - 1s 125us/step - loss: 0.4523 - acc: 0.8011\n",
      "Epoch 209/300\n",
      "7613/7613 [==============================] - 1s 122us/step - loss: 0.4547 - acc: 0.7994\n",
      "Epoch 210/300\n",
      "7613/7613 [==============================] - 1s 106us/step - loss: 0.4504 - acc: 0.8007\n",
      "Epoch 211/300\n",
      "7613/7613 [==============================] - 1s 90us/step - loss: 0.4537 - acc: 0.7978\n",
      "Epoch 212/300\n",
      "7613/7613 [==============================] - 1s 90us/step - loss: 0.4491 - acc: 0.8013\n",
      "Epoch 213/300\n",
      "7613/7613 [==============================] - 1s 92us/step - loss: 0.4437 - acc: 0.8043\n",
      "Epoch 214/300\n",
      "7613/7613 [==============================] - 1s 91us/step - loss: 0.4451 - acc: 0.8080\n",
      "Epoch 215/300\n",
      "7613/7613 [==============================] - 1s 91us/step - loss: 0.4416 - acc: 0.8032\n",
      "Epoch 216/300\n",
      "7613/7613 [==============================] - 1s 120us/step - loss: 0.4456 - acc: 0.8022\n",
      "Epoch 217/300\n",
      "7613/7613 [==============================] - 1s 96us/step - loss: 0.4452 - acc: 0.8047\n",
      "Epoch 218/300\n",
      "7613/7613 [==============================] - 1s 131us/step - loss: 0.4482 - acc: 0.8061\n",
      "Epoch 219/300\n",
      "7613/7613 [==============================] - 1s 114us/step - loss: 0.4470 - acc: 0.8027\n",
      "Epoch 220/300\n",
      "7613/7613 [==============================] - 1s 94us/step - loss: 0.4453 - acc: 0.8055\n",
      "Epoch 221/300\n",
      "7613/7613 [==============================] - 1s 92us/step - loss: 0.4473 - acc: 0.7992\n",
      "Epoch 222/300\n",
      "7613/7613 [==============================] - 1s 106us/step - loss: 0.4478 - acc: 0.7969\n",
      "Epoch 223/300\n",
      "7613/7613 [==============================] - 1s 92us/step - loss: 0.4483 - acc: 0.8003\n",
      "Epoch 224/300\n",
      "7613/7613 [==============================] - 1s 92us/step - loss: 0.4464 - acc: 0.8035\n",
      "Epoch 225/300\n",
      "7613/7613 [==============================] - 1s 113us/step - loss: 0.4458 - acc: 0.8020\n",
      "Epoch 226/300\n",
      "7613/7613 [==============================] - 1s 126us/step - loss: 0.4455 - acc: 0.8060 0s - loss: 0.4293 - acc - ETA: 0s - loss: 0.4453 - acc: 0.\n",
      "Epoch 227/300\n",
      "7613/7613 [==============================] - 1s 120us/step - loss: 0.4459 - acc: 0.8034\n",
      "Epoch 228/300\n",
      "7613/7613 [==============================] - 1s 97us/step - loss: 0.4500 - acc: 0.8051\n",
      "Epoch 229/300\n",
      "7613/7613 [==============================] - 1s 92us/step - loss: 0.4425 - acc: 0.8045\n",
      "Epoch 230/300\n",
      "7613/7613 [==============================] - 1s 93us/step - loss: 0.4406 - acc: 0.8089\n",
      "Epoch 231/300\n",
      "7613/7613 [==============================] - 1s 93us/step - loss: 0.4459 - acc: 0.8032\n",
      "Epoch 232/300\n",
      "7613/7613 [==============================] - 1s 92us/step - loss: 0.4463 - acc: 0.8047\n",
      "Epoch 233/300\n",
      "7613/7613 [==============================] - 1s 92us/step - loss: 0.4498 - acc: 0.8026\n",
      "Epoch 234/300\n",
      "7613/7613 [==============================] - 1s 88us/step - loss: 0.4450 - acc: 0.8032\n",
      "Epoch 235/300\n",
      "7613/7613 [==============================] - 1s 89us/step - loss: 0.4475 - acc: 0.8034\n",
      "Epoch 236/300\n",
      "7613/7613 [==============================] - 1s 87us/step - loss: 0.4485 - acc: 0.8001\n",
      "Epoch 237/300\n",
      "7613/7613 [==============================] - 1s 86us/step - loss: 0.4473 - acc: 0.8018\n",
      "Epoch 238/300\n",
      "7613/7613 [==============================] - 1s 87us/step - loss: 0.4445 - acc: 0.8031\n",
      "Epoch 239/300\n",
      "7613/7613 [==============================] - 1s 87us/step - loss: 0.4477 - acc: 0.7993\n",
      "Epoch 240/300\n",
      "7613/7613 [==============================] - 1s 88us/step - loss: 0.4421 - acc: 0.8032\n",
      "Epoch 241/300\n",
      "7613/7613 [==============================] - 1s 112us/step - loss: 0.4498 - acc: 0.8015\n",
      "Epoch 242/300\n",
      "7613/7613 [==============================] - 1s 122us/step - loss: 0.4467 - acc: 0.8001 0s - loss: 0.4572 - a\n",
      "Epoch 243/300\n",
      "7613/7613 [==============================] - 1s 109us/step - loss: 0.4466 - acc: 0.7988\n",
      "Epoch 244/300\n",
      "7613/7613 [==============================] - 1s 118us/step - loss: 0.4507 - acc: 0.7975\n",
      "Epoch 245/300\n",
      "7613/7613 [==============================] - 1s 124us/step - loss: 0.4409 - acc: 0.8036 0s - loss: 0.4490 \n",
      "Epoch 246/300\n",
      "7613/7613 [==============================] - 1s 92us/step - loss: 0.4370 - acc: 0.8080: 0s - loss: 0.4341 - ac\n",
      "Epoch 247/300\n",
      "7613/7613 [==============================] - 1s 86us/step - loss: 0.4521 - acc: 0.8005\n",
      "Epoch 248/300\n",
      "7613/7613 [==============================] - 1s 87us/step - loss: 0.4468 - acc: 0.8031\n",
      "Epoch 249/300\n",
      "7613/7613 [==============================] - 1s 90us/step - loss: 0.4485 - acc: 0.8019\n",
      "Epoch 250/300\n",
      "7613/7613 [==============================] - 1s 85us/step - loss: 0.4489 - acc: 0.7982\n",
      "Epoch 251/300\n",
      "7613/7613 [==============================] - 1s 86us/step - loss: 0.4455 - acc: 0.8032\n",
      "Epoch 252/300\n",
      "7613/7613 [==============================] - 1s 88us/step - loss: 0.4449 - acc: 0.8052\n",
      "Epoch 253/300\n",
      "7613/7613 [==============================] - 1s 87us/step - loss: 0.4382 - acc: 0.8080\n",
      "Epoch 254/300\n",
      "7613/7613 [==============================] - 1s 87us/step - loss: 0.4477 - acc: 0.8055\n",
      "Epoch 255/300\n",
      "7613/7613 [==============================] - 1s 86us/step - loss: 0.4427 - acc: 0.8076\n",
      "Epoch 256/300\n",
      "7613/7613 [==============================] - 1s 91us/step - loss: 0.4455 - acc: 0.8007\n",
      "Epoch 257/300\n",
      "7613/7613 [==============================] - 1s 101us/step - loss: 0.4420 - acc: 0.8057\n",
      "Epoch 258/300\n",
      "7613/7613 [==============================] - 1s 93us/step - loss: 0.4354 - acc: 0.8038\n",
      "Epoch 259/300\n",
      "7613/7613 [==============================] - 1s 89us/step - loss: 0.4420 - acc: 0.8020\n",
      "Epoch 260/300\n",
      "7613/7613 [==============================] - 1s 92us/step - loss: 0.4423 - acc: 0.8060: 0s - loss: 0.4403 -\n",
      "Epoch 261/300\n",
      "7613/7613 [==============================] - 1s 90us/step - loss: 0.4451 - acc: 0.8014\n",
      "Epoch 262/300\n",
      "7613/7613 [==============================] - 1s 88us/step - loss: 0.4447 - acc: 0.8052\n",
      "Epoch 263/300\n",
      "7613/7613 [==============================] - 1s 93us/step - loss: 0.4398 - acc: 0.8024\n",
      "Epoch 264/300\n",
      "7613/7613 [==============================] - 1s 94us/step - loss: 0.4390 - acc: 0.8028\n",
      "Epoch 265/300\n",
      "7613/7613 [==============================] - 1s 103us/step - loss: 0.4458 - acc: 0.8030\n",
      "Epoch 266/300\n",
      "7613/7613 [==============================] - 1s 92us/step - loss: 0.4481 - acc: 0.8024\n",
      "Epoch 267/300\n",
      "7613/7613 [==============================] - 1s 118us/step - loss: 0.4456 - acc: 0.8072\n",
      "Epoch 268/300\n",
      "7613/7613 [==============================] - 1s 127us/step - loss: 0.4466 - acc: 0.8018\n",
      "Epoch 269/300\n",
      "7613/7613 [==============================] - 1s 103us/step - loss: 0.4448 - acc: 0.8020\n",
      "Epoch 270/300\n",
      "7613/7613 [==============================] - 1s 110us/step - loss: 0.4433 - acc: 0.8038\n",
      "Epoch 271/300\n",
      "7613/7613 [==============================] - 1s 101us/step - loss: 0.4431 - acc: 0.8014\n",
      "Epoch 272/300\n",
      "7613/7613 [==============================] - 1s 107us/step - loss: 0.4422 - acc: 0.8053\n",
      "Epoch 273/300\n",
      "7613/7613 [==============================] - 1s 109us/step - loss: 0.4436 - acc: 0.8003\n",
      "Epoch 274/300\n",
      "7613/7613 [==============================] - 1s 97us/step - loss: 0.4437 - acc: 0.8011\n",
      "Epoch 275/300\n",
      "7613/7613 [==============================] - 1s 96us/step - loss: 0.4410 - acc: 0.8063\n",
      "Epoch 276/300\n",
      "7613/7613 [==============================] - 1s 98us/step - loss: 0.4388 - acc: 0.8013\n",
      "Epoch 277/300\n",
      "7613/7613 [==============================] - 1s 101us/step - loss: 0.4455 - acc: 0.8020\n",
      "Epoch 278/300\n",
      "7613/7613 [==============================] - 1s 115us/step - loss: 0.4430 - acc: 0.8031\n",
      "Epoch 279/300\n",
      "7613/7613 [==============================] - 1s 100us/step - loss: 0.4418 - acc: 0.8039\n",
      "Epoch 280/300\n",
      "7613/7613 [==============================] - 1s 104us/step - loss: 0.4484 - acc: 0.8032 0s - loss: 0.4497 - acc: 0.802\n",
      "Epoch 281/300\n",
      "7613/7613 [==============================] - 1s 95us/step - loss: 0.4425 - acc: 0.7993\n",
      "Epoch 282/300\n",
      "7613/7613 [==============================] - 1s 103us/step - loss: 0.4400 - acc: 0.8028\n",
      "Epoch 283/300\n",
      "7613/7613 [==============================] - 1s 98us/step - loss: 0.4394 - acc: 0.8051\n",
      "Epoch 284/300\n",
      "7613/7613 [==============================] - 1s 97us/step - loss: 0.4450 - acc: 0.8028\n",
      "Epoch 285/300\n",
      "7613/7613 [==============================] - 1s 87us/step - loss: 0.4408 - acc: 0.8027\n",
      "Epoch 286/300\n",
      "7613/7613 [==============================] - 1s 91us/step - loss: 0.4440 - acc: 0.8035\n",
      "Epoch 287/300\n",
      "7613/7613 [==============================] - 1s 94us/step - loss: 0.4380 - acc: 0.8102\n",
      "Epoch 288/300\n",
      "7613/7613 [==============================] - 1s 88us/step - loss: 0.4393 - acc: 0.8073\n",
      "Epoch 289/300\n",
      "7613/7613 [==============================] - 1s 90us/step - loss: 0.4400 - acc: 0.8064\n",
      "Epoch 290/300\n",
      "7613/7613 [==============================] - 1s 88us/step - loss: 0.4368 - acc: 0.8073\n",
      "Epoch 291/300\n",
      "7613/7613 [==============================] - 1s 86us/step - loss: 0.4367 - acc: 0.8052\n",
      "Epoch 292/300\n",
      "7613/7613 [==============================] - 1s 86us/step - loss: 0.4307 - acc: 0.8112\n",
      "Epoch 293/300\n",
      "7613/7613 [==============================] - 1s 104us/step - loss: 0.4386 - acc: 0.8010\n",
      "Epoch 294/300\n",
      "7613/7613 [==============================] - 1s 112us/step - loss: 0.4357 - acc: 0.8043\n",
      "Epoch 295/300\n",
      "7613/7613 [==============================] - 1s 122us/step - loss: 0.4385 - acc: 0.8022\n",
      "Epoch 296/300\n",
      "7613/7613 [==============================] - 1s 118us/step - loss: 0.4399 - acc: 0.8102\n",
      "Epoch 297/300\n",
      "7613/7613 [==============================] - 1s 106us/step - loss: 0.4381 - acc: 0.8120\n",
      "Epoch 298/300\n",
      "7613/7613 [==============================] - 1s 93us/step - loss: 0.4329 - acc: 0.8076\n",
      "Epoch 299/300\n",
      "7613/7613 [==============================] - 1s 109us/step - loss: 0.4393 - acc: 0.8082\n",
      "Epoch 300/300\n",
      "7613/7613 [==============================] - 1s 84us/step - loss: 0.4389 - acc: 0.8027\n"
     ]
    },
    {
     "data": {
      "text/plain": [
       "<keras.callbacks.History at 0x20e8a576748>"
      ]
     },
     "execution_count": 32,
     "metadata": {},
     "output_type": "execute_result"
    }
   ],
   "source": [
    "model1.compile(loss='binary_crossentropy',\n",
    "              optimizer='rmsprop',\n",
    "              metrics=['accuracy'])\n",
    "\n",
    "model1.fit(Xtrain, ytrain,\n",
    "          epochs=300,\n",
    "          batch_size=128)"
   ]
  },
  {
   "cell_type": "code",
   "execution_count": 33,
   "metadata": {
    "ExecuteTime": {
     "end_time": "2020-01-05T06:24:24.089029Z",
     "start_time": "2020-01-05T06:24:24.037008Z"
    }
   },
   "outputs": [
    {
     "data": {
      "text/html": [
       "<div>\n",
       "<style scoped>\n",
       "    .dataframe tbody tr th:only-of-type {\n",
       "        vertical-align: middle;\n",
       "    }\n",
       "\n",
       "    .dataframe tbody tr th {\n",
       "        vertical-align: top;\n",
       "    }\n",
       "\n",
       "    .dataframe thead th {\n",
       "        text-align: right;\n",
       "    }\n",
       "</style>\n",
       "<table border=\"1\" class=\"dataframe\">\n",
       "  <thead>\n",
       "    <tr style=\"text-align: right;\">\n",
       "      <th></th>\n",
       "      <th>id</th>\n",
       "      <th>0</th>\n",
       "      <th>1</th>\n",
       "      <th>2</th>\n",
       "      <th>3</th>\n",
       "      <th>4</th>\n",
       "      <th>5</th>\n",
       "      <th>6</th>\n",
       "      <th>7</th>\n",
       "      <th>8</th>\n",
       "      <th>...</th>\n",
       "      <th>290</th>\n",
       "      <th>291</th>\n",
       "      <th>292</th>\n",
       "      <th>293</th>\n",
       "      <th>294</th>\n",
       "      <th>295</th>\n",
       "      <th>296</th>\n",
       "      <th>297</th>\n",
       "      <th>298</th>\n",
       "      <th>299</th>\n",
       "    </tr>\n",
       "  </thead>\n",
       "  <tbody>\n",
       "    <tr>\n",
       "      <th>0</th>\n",
       "      <td>0</td>\n",
       "      <td>0.085986</td>\n",
       "      <td>0.017700</td>\n",
       "      <td>0.070801</td>\n",
       "      <td>-0.062646</td>\n",
       "      <td>0.019763</td>\n",
       "      <td>-0.099023</td>\n",
       "      <td>0.024805</td>\n",
       "      <td>-0.098717</td>\n",
       "      <td>0.199609</td>\n",
       "      <td>...</td>\n",
       "      <td>-0.052759</td>\n",
       "      <td>0.013232</td>\n",
       "      <td>-0.023535</td>\n",
       "      <td>0.161035</td>\n",
       "      <td>-0.107227</td>\n",
       "      <td>-0.018237</td>\n",
       "      <td>-0.076904</td>\n",
       "      <td>-0.065820</td>\n",
       "      <td>0.019824</td>\n",
       "      <td>-0.028073</td>\n",
       "    </tr>\n",
       "    <tr>\n",
       "      <th>1</th>\n",
       "      <td>2</td>\n",
       "      <td>-0.012672</td>\n",
       "      <td>-0.017273</td>\n",
       "      <td>0.039627</td>\n",
       "      <td>0.100739</td>\n",
       "      <td>-0.048485</td>\n",
       "      <td>-0.000916</td>\n",
       "      <td>-0.074554</td>\n",
       "      <td>-0.013052</td>\n",
       "      <td>0.196361</td>\n",
       "      <td>...</td>\n",
       "      <td>-0.092056</td>\n",
       "      <td>0.001709</td>\n",
       "      <td>-0.069244</td>\n",
       "      <td>0.065786</td>\n",
       "      <td>0.031891</td>\n",
       "      <td>0.020538</td>\n",
       "      <td>-0.036987</td>\n",
       "      <td>-0.052338</td>\n",
       "      <td>-0.011520</td>\n",
       "      <td>-0.035004</td>\n",
       "    </tr>\n",
       "    <tr>\n",
       "      <th>2</th>\n",
       "      <td>3</td>\n",
       "      <td>0.093517</td>\n",
       "      <td>0.122688</td>\n",
       "      <td>0.011117</td>\n",
       "      <td>0.044056</td>\n",
       "      <td>-0.021211</td>\n",
       "      <td>-0.021939</td>\n",
       "      <td>-0.050493</td>\n",
       "      <td>-0.093328</td>\n",
       "      <td>0.021833</td>\n",
       "      <td>...</td>\n",
       "      <td>-0.087957</td>\n",
       "      <td>-0.035434</td>\n",
       "      <td>-0.094305</td>\n",
       "      <td>0.111256</td>\n",
       "      <td>0.023299</td>\n",
       "      <td>0.065874</td>\n",
       "      <td>0.019942</td>\n",
       "      <td>-0.051636</td>\n",
       "      <td>0.094627</td>\n",
       "      <td>0.034194</td>\n",
       "    </tr>\n",
       "    <tr>\n",
       "      <th>3</th>\n",
       "      <td>9</td>\n",
       "      <td>0.191797</td>\n",
       "      <td>0.008857</td>\n",
       "      <td>-0.048828</td>\n",
       "      <td>0.071875</td>\n",
       "      <td>0.053418</td>\n",
       "      <td>0.051758</td>\n",
       "      <td>-0.064160</td>\n",
       "      <td>-0.124121</td>\n",
       "      <td>0.065332</td>\n",
       "      <td>...</td>\n",
       "      <td>-0.027344</td>\n",
       "      <td>-0.071484</td>\n",
       "      <td>0.004674</td>\n",
       "      <td>0.195703</td>\n",
       "      <td>0.167773</td>\n",
       "      <td>0.001904</td>\n",
       "      <td>-0.104492</td>\n",
       "      <td>-0.031445</td>\n",
       "      <td>0.005469</td>\n",
       "      <td>0.033301</td>\n",
       "    </tr>\n",
       "    <tr>\n",
       "      <th>4</th>\n",
       "      <td>11</td>\n",
       "      <td>-0.000142</td>\n",
       "      <td>0.078695</td>\n",
       "      <td>-0.047109</td>\n",
       "      <td>0.059326</td>\n",
       "      <td>-0.040771</td>\n",
       "      <td>-0.005697</td>\n",
       "      <td>-0.017741</td>\n",
       "      <td>-0.138672</td>\n",
       "      <td>0.054911</td>\n",
       "      <td>...</td>\n",
       "      <td>0.069255</td>\n",
       "      <td>-0.004964</td>\n",
       "      <td>-0.101400</td>\n",
       "      <td>0.066895</td>\n",
       "      <td>-0.026286</td>\n",
       "      <td>0.058370</td>\n",
       "      <td>-0.125407</td>\n",
       "      <td>0.075246</td>\n",
       "      <td>0.026042</td>\n",
       "      <td>0.031189</td>\n",
       "    </tr>\n",
       "  </tbody>\n",
       "</table>\n",
       "<p>5 rows × 601 columns</p>\n",
       "</div>"
      ],
      "text/plain": [
       "   id         0         1         2         3         4         5         6  \\\n",
       "0   0  0.085986  0.017700  0.070801 -0.062646  0.019763 -0.099023  0.024805   \n",
       "1   2 -0.012672 -0.017273  0.039627  0.100739 -0.048485 -0.000916 -0.074554   \n",
       "2   3  0.093517  0.122688  0.011117  0.044056 -0.021211 -0.021939 -0.050493   \n",
       "3   9  0.191797  0.008857 -0.048828  0.071875  0.053418  0.051758 -0.064160   \n",
       "4  11 -0.000142  0.078695 -0.047109  0.059326 -0.040771 -0.005697 -0.017741   \n",
       "\n",
       "          7         8  ...       290       291       292       293       294  \\\n",
       "0 -0.098717  0.199609  ... -0.052759  0.013232 -0.023535  0.161035 -0.107227   \n",
       "1 -0.013052  0.196361  ... -0.092056  0.001709 -0.069244  0.065786  0.031891   \n",
       "2 -0.093328  0.021833  ... -0.087957 -0.035434 -0.094305  0.111256  0.023299   \n",
       "3 -0.124121  0.065332  ... -0.027344 -0.071484  0.004674  0.195703  0.167773   \n",
       "4 -0.138672  0.054911  ...  0.069255 -0.004964 -0.101400  0.066895 -0.026286   \n",
       "\n",
       "        295       296       297       298       299  \n",
       "0 -0.018237 -0.076904 -0.065820  0.019824 -0.028073  \n",
       "1  0.020538 -0.036987 -0.052338 -0.011520 -0.035004  \n",
       "2  0.065874  0.019942 -0.051636  0.094627  0.034194  \n",
       "3  0.001904 -0.104492 -0.031445  0.005469  0.033301  \n",
       "4  0.058370 -0.125407  0.075246  0.026042  0.031189  \n",
       "\n",
       "[5 rows x 601 columns]"
      ]
     },
     "execution_count": 33,
     "metadata": {},
     "output_type": "execute_result"
    }
   ],
   "source": [
    "newtest.head()"
   ]
  },
  {
   "cell_type": "code",
   "execution_count": 34,
   "metadata": {
    "ExecuteTime": {
     "end_time": "2020-01-05T06:24:28.208635Z",
     "start_time": "2020-01-05T06:24:27.306494Z"
    }
   },
   "outputs": [],
   "source": [
    "pred=model1.predict(Xtest)"
   ]
  },
  {
   "cell_type": "code",
   "execution_count": 35,
   "metadata": {
    "ExecuteTime": {
     "end_time": "2020-01-05T06:24:30.447033Z",
     "start_time": "2020-01-05T06:24:30.399466Z"
    }
   },
   "outputs": [],
   "source": [
    "pred[pred>=0.5]=1\n",
    "pred[pred<0.5]=0"
   ]
  },
  {
   "cell_type": "code",
   "execution_count": 36,
   "metadata": {
    "ExecuteTime": {
     "end_time": "2020-01-05T06:24:32.469357Z",
     "start_time": "2020-01-05T06:24:32.433341Z"
    }
   },
   "outputs": [],
   "source": [
    "pred=pred.astype('int32')\n",
    "pred=pd.DataFrame(pred)"
   ]
  },
  {
   "cell_type": "code",
   "execution_count": 37,
   "metadata": {
    "ExecuteTime": {
     "end_time": "2020-01-05T06:24:38.862693Z",
     "start_time": "2020-01-05T06:24:38.095857Z"
    }
   },
   "outputs": [
    {
     "data": {
      "text/html": [
       "<div>\n",
       "<style scoped>\n",
       "    .dataframe tbody tr th:only-of-type {\n",
       "        vertical-align: middle;\n",
       "    }\n",
       "\n",
       "    .dataframe tbody tr th {\n",
       "        vertical-align: top;\n",
       "    }\n",
       "\n",
       "    .dataframe thead th {\n",
       "        text-align: right;\n",
       "    }\n",
       "</style>\n",
       "<table border=\"1\" class=\"dataframe\">\n",
       "  <thead>\n",
       "    <tr style=\"text-align: right;\">\n",
       "      <th></th>\n",
       "      <th>target</th>\n",
       "    </tr>\n",
       "    <tr>\n",
       "      <th>id</th>\n",
       "      <th></th>\n",
       "    </tr>\n",
       "  </thead>\n",
       "  <tbody>\n",
       "    <tr>\n",
       "      <th>0</th>\n",
       "      <td>1</td>\n",
       "    </tr>\n",
       "    <tr>\n",
       "      <th>2</th>\n",
       "      <td>0</td>\n",
       "    </tr>\n",
       "    <tr>\n",
       "      <th>3</th>\n",
       "      <td>1</td>\n",
       "    </tr>\n",
       "    <tr>\n",
       "      <th>9</th>\n",
       "      <td>1</td>\n",
       "    </tr>\n",
       "    <tr>\n",
       "      <th>11</th>\n",
       "      <td>1</td>\n",
       "    </tr>\n",
       "    <tr>\n",
       "      <th>12</th>\n",
       "      <td>1</td>\n",
       "    </tr>\n",
       "    <tr>\n",
       "      <th>21</th>\n",
       "      <td>0</td>\n",
       "    </tr>\n",
       "    <tr>\n",
       "      <th>22</th>\n",
       "      <td>0</td>\n",
       "    </tr>\n",
       "    <tr>\n",
       "      <th>27</th>\n",
       "      <td>0</td>\n",
       "    </tr>\n",
       "    <tr>\n",
       "      <th>29</th>\n",
       "      <td>0</td>\n",
       "    </tr>\n",
       "    <tr>\n",
       "      <th>30</th>\n",
       "      <td>0</td>\n",
       "    </tr>\n",
       "    <tr>\n",
       "      <th>35</th>\n",
       "      <td>0</td>\n",
       "    </tr>\n",
       "    <tr>\n",
       "      <th>42</th>\n",
       "      <td>0</td>\n",
       "    </tr>\n",
       "    <tr>\n",
       "      <th>43</th>\n",
       "      <td>0</td>\n",
       "    </tr>\n",
       "    <tr>\n",
       "      <th>45</th>\n",
       "      <td>0</td>\n",
       "    </tr>\n",
       "    <tr>\n",
       "      <th>46</th>\n",
       "      <td>1</td>\n",
       "    </tr>\n",
       "    <tr>\n",
       "      <th>47</th>\n",
       "      <td>0</td>\n",
       "    </tr>\n",
       "    <tr>\n",
       "      <th>51</th>\n",
       "      <td>0</td>\n",
       "    </tr>\n",
       "    <tr>\n",
       "      <th>58</th>\n",
       "      <td>0</td>\n",
       "    </tr>\n",
       "    <tr>\n",
       "      <th>60</th>\n",
       "      <td>0</td>\n",
       "    </tr>\n",
       "    <tr>\n",
       "      <th>69</th>\n",
       "      <td>0</td>\n",
       "    </tr>\n",
       "    <tr>\n",
       "      <th>70</th>\n",
       "      <td>0</td>\n",
       "    </tr>\n",
       "    <tr>\n",
       "      <th>72</th>\n",
       "      <td>0</td>\n",
       "    </tr>\n",
       "    <tr>\n",
       "      <th>75</th>\n",
       "      <td>1</td>\n",
       "    </tr>\n",
       "    <tr>\n",
       "      <th>84</th>\n",
       "      <td>0</td>\n",
       "    </tr>\n",
       "    <tr>\n",
       "      <th>87</th>\n",
       "      <td>0</td>\n",
       "    </tr>\n",
       "    <tr>\n",
       "      <th>88</th>\n",
       "      <td>0</td>\n",
       "    </tr>\n",
       "    <tr>\n",
       "      <th>90</th>\n",
       "      <td>0</td>\n",
       "    </tr>\n",
       "    <tr>\n",
       "      <th>94</th>\n",
       "      <td>0</td>\n",
       "    </tr>\n",
       "    <tr>\n",
       "      <th>99</th>\n",
       "      <td>1</td>\n",
       "    </tr>\n",
       "    <tr>\n",
       "      <th>...</th>\n",
       "      <td>...</td>\n",
       "    </tr>\n",
       "    <tr>\n",
       "      <th>10756</th>\n",
       "      <td>1</td>\n",
       "    </tr>\n",
       "    <tr>\n",
       "      <th>10757</th>\n",
       "      <td>1</td>\n",
       "    </tr>\n",
       "    <tr>\n",
       "      <th>10758</th>\n",
       "      <td>1</td>\n",
       "    </tr>\n",
       "    <tr>\n",
       "      <th>10761</th>\n",
       "      <td>1</td>\n",
       "    </tr>\n",
       "    <tr>\n",
       "      <th>10762</th>\n",
       "      <td>1</td>\n",
       "    </tr>\n",
       "    <tr>\n",
       "      <th>10773</th>\n",
       "      <td>1</td>\n",
       "    </tr>\n",
       "    <tr>\n",
       "      <th>10778</th>\n",
       "      <td>1</td>\n",
       "    </tr>\n",
       "    <tr>\n",
       "      <th>10781</th>\n",
       "      <td>1</td>\n",
       "    </tr>\n",
       "    <tr>\n",
       "      <th>10791</th>\n",
       "      <td>0</td>\n",
       "    </tr>\n",
       "    <tr>\n",
       "      <th>10792</th>\n",
       "      <td>0</td>\n",
       "    </tr>\n",
       "    <tr>\n",
       "      <th>10796</th>\n",
       "      <td>0</td>\n",
       "    </tr>\n",
       "    <tr>\n",
       "      <th>10797</th>\n",
       "      <td>1</td>\n",
       "    </tr>\n",
       "    <tr>\n",
       "      <th>10801</th>\n",
       "      <td>0</td>\n",
       "    </tr>\n",
       "    <tr>\n",
       "      <th>10804</th>\n",
       "      <td>0</td>\n",
       "    </tr>\n",
       "    <tr>\n",
       "      <th>10806</th>\n",
       "      <td>0</td>\n",
       "    </tr>\n",
       "    <tr>\n",
       "      <th>10807</th>\n",
       "      <td>0</td>\n",
       "    </tr>\n",
       "    <tr>\n",
       "      <th>10816</th>\n",
       "      <td>0</td>\n",
       "    </tr>\n",
       "    <tr>\n",
       "      <th>10820</th>\n",
       "      <td>0</td>\n",
       "    </tr>\n",
       "    <tr>\n",
       "      <th>10828</th>\n",
       "      <td>0</td>\n",
       "    </tr>\n",
       "    <tr>\n",
       "      <th>10836</th>\n",
       "      <td>1</td>\n",
       "    </tr>\n",
       "    <tr>\n",
       "      <th>10838</th>\n",
       "      <td>1</td>\n",
       "    </tr>\n",
       "    <tr>\n",
       "      <th>10845</th>\n",
       "      <td>1</td>\n",
       "    </tr>\n",
       "    <tr>\n",
       "      <th>10856</th>\n",
       "      <td>1</td>\n",
       "    </tr>\n",
       "    <tr>\n",
       "      <th>10857</th>\n",
       "      <td>1</td>\n",
       "    </tr>\n",
       "    <tr>\n",
       "      <th>10858</th>\n",
       "      <td>1</td>\n",
       "    </tr>\n",
       "    <tr>\n",
       "      <th>10861</th>\n",
       "      <td>1</td>\n",
       "    </tr>\n",
       "    <tr>\n",
       "      <th>10865</th>\n",
       "      <td>1</td>\n",
       "    </tr>\n",
       "    <tr>\n",
       "      <th>10868</th>\n",
       "      <td>1</td>\n",
       "    </tr>\n",
       "    <tr>\n",
       "      <th>10874</th>\n",
       "      <td>1</td>\n",
       "    </tr>\n",
       "    <tr>\n",
       "      <th>10875</th>\n",
       "      <td>1</td>\n",
       "    </tr>\n",
       "  </tbody>\n",
       "</table>\n",
       "<p>3263 rows × 1 columns</p>\n",
       "</div>"
      ],
      "text/plain": [
       "       target\n",
       "id           \n",
       "0           1\n",
       "2           0\n",
       "3           1\n",
       "9           1\n",
       "11          1\n",
       "12          1\n",
       "21          0\n",
       "22          0\n",
       "27          0\n",
       "29          0\n",
       "30          0\n",
       "35          0\n",
       "42          0\n",
       "43          0\n",
       "45          0\n",
       "46          1\n",
       "47          0\n",
       "51          0\n",
       "58          0\n",
       "60          0\n",
       "69          0\n",
       "70          0\n",
       "72          0\n",
       "75          1\n",
       "84          0\n",
       "87          0\n",
       "88          0\n",
       "90          0\n",
       "94          0\n",
       "99          1\n",
       "...       ...\n",
       "10756       1\n",
       "10757       1\n",
       "10758       1\n",
       "10761       1\n",
       "10762       1\n",
       "10773       1\n",
       "10778       1\n",
       "10781       1\n",
       "10791       0\n",
       "10792       0\n",
       "10796       0\n",
       "10797       1\n",
       "10801       0\n",
       "10804       0\n",
       "10806       0\n",
       "10807       0\n",
       "10816       0\n",
       "10820       0\n",
       "10828       0\n",
       "10836       1\n",
       "10838       1\n",
       "10845       1\n",
       "10856       1\n",
       "10857       1\n",
       "10858       1\n",
       "10861       1\n",
       "10865       1\n",
       "10868       1\n",
       "10874       1\n",
       "10875       1\n",
       "\n",
       "[3263 rows x 1 columns]"
      ]
     },
     "execution_count": 37,
     "metadata": {},
     "output_type": "execute_result"
    }
   ],
   "source": [
    "submission=pd.DataFrame([Xtestid]).T\n",
    "submission=pd.concat([submission,pred],axis=1)\n",
    "submission.columns=['id','target']\n",
    "submission.set_index('id',inplace=True)\n",
    "submission.to_csv(\"Submission.csv\")\n"
   ]
  },
  {
   "cell_type": "markdown",
   "metadata": {},
   "source": [
    "# LSTM"
   ]
  },
  {
   "cell_type": "code",
   "execution_count": 21,
   "metadata": {
    "ExecuteTime": {
     "end_time": "2020-01-06T09:29:05.931234Z",
     "start_time": "2020-01-06T09:29:05.926240Z"
    }
   },
   "outputs": [],
   "source": [
    "from keras.preprocessing import sequence\n",
    "from keras.models import Sequential\n",
    "from keras.layers import Dense, Embedding\n",
    "from keras.layers import LSTM"
   ]
  },
  {
   "cell_type": "code",
   "execution_count": 14,
   "metadata": {
    "ExecuteTime": {
     "end_time": "2020-01-06T09:28:33.637345Z",
     "start_time": "2020-01-06T09:28:33.559472Z"
    }
   },
   "outputs": [],
   "source": [
    "Xtrain=train.drop(columns=['id','target'])\n",
    "ytrain=train['target']\n",
    "Xtestid=test['id']\n",
    "Xtest=test.drop(columns=['id'])"
   ]
  },
  {
   "cell_type": "code",
   "execution_count": 15,
   "metadata": {
    "ExecuteTime": {
     "end_time": "2020-01-06T09:28:47.334015Z",
     "start_time": "2020-01-06T09:28:47.330019Z"
    }
   },
   "outputs": [],
   "source": [
    "max_features = 3000\n",
    "# cut texts after this number of words (among top max_features most common words)\n",
    "maxlen = 20\n",
    "batch_size = 32"
   ]
  },
  {
   "cell_type": "code",
   "execution_count": 16,
   "metadata": {
    "ExecuteTime": {
     "end_time": "2020-01-06T09:28:48.227335Z",
     "start_time": "2020-01-06T09:28:48.196346Z"
    }
   },
   "outputs": [
    {
     "data": {
      "text/html": [
       "<div>\n",
       "<style scoped>\n",
       "    .dataframe tbody tr th:only-of-type {\n",
       "        vertical-align: middle;\n",
       "    }\n",
       "\n",
       "    .dataframe tbody tr th {\n",
       "        vertical-align: top;\n",
       "    }\n",
       "\n",
       "    .dataframe thead th {\n",
       "        text-align: right;\n",
       "    }\n",
       "</style>\n",
       "<table border=\"1\" class=\"dataframe\">\n",
       "  <thead>\n",
       "    <tr style=\"text-align: right;\">\n",
       "      <th></th>\n",
       "      <th>id</th>\n",
       "      <th>keyword</th>\n",
       "      <th>location</th>\n",
       "      <th>text</th>\n",
       "      <th>target</th>\n",
       "      <th>hashtags</th>\n",
       "    </tr>\n",
       "  </thead>\n",
       "  <tbody>\n",
       "    <tr>\n",
       "      <th>0</th>\n",
       "      <td>1</td>\n",
       "      <td>NaN</td>\n",
       "      <td>NaN</td>\n",
       "      <td>deeds reason earthquake may allah forgive</td>\n",
       "      <td>1</td>\n",
       "      <td>earthquake</td>\n",
       "    </tr>\n",
       "    <tr>\n",
       "      <th>1</th>\n",
       "      <td>4</td>\n",
       "      <td>NaN</td>\n",
       "      <td>NaN</td>\n",
       "      <td>forest fire near ronge sask canada</td>\n",
       "      <td>1</td>\n",
       "      <td></td>\n",
       "    </tr>\n",
       "    <tr>\n",
       "      <th>2</th>\n",
       "      <td>5</td>\n",
       "      <td>NaN</td>\n",
       "      <td>NaN</td>\n",
       "      <td>residents asked shelter place notified officer...</td>\n",
       "      <td>1</td>\n",
       "      <td></td>\n",
       "    </tr>\n",
       "    <tr>\n",
       "      <th>3</th>\n",
       "      <td>6</td>\n",
       "      <td>NaN</td>\n",
       "      <td>NaN</td>\n",
       "      <td>people receive wildfires evacuation orders cal...</td>\n",
       "      <td>1</td>\n",
       "      <td>wildfires</td>\n",
       "    </tr>\n",
       "    <tr>\n",
       "      <th>4</th>\n",
       "      <td>7</td>\n",
       "      <td>NaN</td>\n",
       "      <td>NaN</td>\n",
       "      <td>got sent photo ruby alaska smoke wildfires pou...</td>\n",
       "      <td>1</td>\n",
       "      <td>alaska wildfires</td>\n",
       "    </tr>\n",
       "  </tbody>\n",
       "</table>\n",
       "</div>"
      ],
      "text/plain": [
       "   id keyword location                                               text  \\\n",
       "0   1     NaN      NaN          deeds reason earthquake may allah forgive   \n",
       "1   4     NaN      NaN                 forest fire near ronge sask canada   \n",
       "2   5     NaN      NaN  residents asked shelter place notified officer...   \n",
       "3   6     NaN      NaN  people receive wildfires evacuation orders cal...   \n",
       "4   7     NaN      NaN  got sent photo ruby alaska smoke wildfires pou...   \n",
       "\n",
       "   target          hashtags  \n",
       "0       1        earthquake  \n",
       "1       1                    \n",
       "2       1                    \n",
       "3       1         wildfires  \n",
       "4       1  alaska wildfires  "
      ]
     },
     "execution_count": 16,
     "metadata": {},
     "output_type": "execute_result"
    }
   ],
   "source": [
    "train.head()"
   ]
  },
  {
   "cell_type": "code",
   "execution_count": 17,
   "metadata": {
    "ExecuteTime": {
     "end_time": "2020-01-06T09:28:51.203712Z",
     "start_time": "2020-01-06T09:28:51.188066Z"
    }
   },
   "outputs": [],
   "source": [
    "from keras.preprocessing.text import Tokenizer"
   ]
  },
  {
   "cell_type": "code",
   "execution_count": 18,
   "metadata": {
    "ExecuteTime": {
     "end_time": "2020-01-06T09:28:56.851247Z",
     "start_time": "2020-01-06T09:28:56.608006Z"
    }
   },
   "outputs": [],
   "source": [
    "tokenizer=Tokenizer()\n",
    "tokenizer.fit_on_texts(train.text)"
   ]
  },
  {
   "cell_type": "code",
   "execution_count": 19,
   "metadata": {
    "ExecuteTime": {
     "end_time": "2020-01-06T09:28:58.109122Z",
     "start_time": "2020-01-06T09:28:57.732154Z"
    }
   },
   "outputs": [],
   "source": [
    "traintext=tokenizer.texts_to_sequences(train.text)\n",
    "testtext=tokenizer.texts_to_sequences(test.text)"
   ]
  },
  {
   "cell_type": "code",
   "execution_count": 22,
   "metadata": {
    "ExecuteTime": {
     "end_time": "2020-01-06T09:29:09.110761Z",
     "start_time": "2020-01-06T09:29:09.009462Z"
    }
   },
   "outputs": [],
   "source": [
    "traintext=sequence.pad_sequences(traintext,maxlen=maxlen)\n",
    "testtext=sequence.pad_sequences(testtext,maxlen=maxlen)"
   ]
  },
  {
   "cell_type": "code",
   "execution_count": 23,
   "metadata": {
    "ExecuteTime": {
     "end_time": "2020-01-06T09:29:11.029358Z",
     "start_time": "2020-01-06T09:29:11.022359Z"
    }
   },
   "outputs": [
    {
     "data": {
      "text/plain": [
       "array([[   0,    0,    0, ...,   50, 1473, 3973],\n",
       "       [   0,    0,    0, ..., 5945, 5946, 1164],\n",
       "       [   0,    0,    0, ...,  515, 1165,  894],\n",
       "       ...,\n",
       "       [   0,    0,    0, ..., 3686,  447, 1343],\n",
       "       [   0,    0,    0, ..., 4660, 2265,  181],\n",
       "       [   0,    0,    0, ...,   75,  581,   10]])"
      ]
     },
     "execution_count": 23,
     "metadata": {},
     "output_type": "execute_result"
    }
   ],
   "source": [
    "traintext"
   ]
  },
  {
   "cell_type": "code",
   "execution_count": 24,
   "metadata": {
    "ExecuteTime": {
     "end_time": "2020-01-06T09:29:11.532226Z",
     "start_time": "2020-01-06T09:29:11.524224Z"
    }
   },
   "outputs": [
    {
     "data": {
      "text/plain": [
       "array([[   0,    0,    0, ..., 1660,   45,   22],\n",
       "       [   0,    0,    0, ...,  486, 1744,  125],\n",
       "       [   0,    0,    0, ...,  557, 1175,  228],\n",
       "       ...,\n",
       "       [   0,    0,    0, ...,  549,  233, 1086],\n",
       "       [   0,    0,    0, ...,  133, 1470, 1636],\n",
       "       [   0,    0,    0, ...,   12,  154, 5436]])"
      ]
     },
     "execution_count": 24,
     "metadata": {},
     "output_type": "execute_result"
    }
   ],
   "source": [
    "testtext"
   ]
  },
  {
   "cell_type": "code",
   "execution_count": 25,
   "metadata": {
    "ExecuteTime": {
     "end_time": "2020-01-06T09:29:14.986543Z",
     "start_time": "2020-01-06T09:29:14.970918Z"
    }
   },
   "outputs": [
    {
     "data": {
      "text/plain": [
       "14486"
      ]
     },
     "execution_count": 25,
     "metadata": {},
     "output_type": "execute_result"
    }
   ],
   "source": [
    "len(tokenizer.word_counts)"
   ]
  },
  {
   "cell_type": "code",
   "execution_count": 30,
   "metadata": {
    "ExecuteTime": {
     "end_time": "2020-01-06T09:30:38.549996Z",
     "start_time": "2020-01-06T09:30:37.142336Z"
    }
   },
   "outputs": [],
   "source": [
    "model2=Sequential()\n",
    "model2.add(Embedding(14487,60))\n",
    "model2.add(LSTM(60, dropout=0.5, recurrent_dropout=0.2,return_sequences=True))\n",
    "model2.add(LSTM(60, dropout=0.5, recurrent_dropout=0.2))\n",
    "model2.add(Dense(1, activation='sigmoid'))\n",
    "\n",
    "model2.compile(loss='binary_crossentropy',\n",
    "              optimizer='adam',\n",
    "              metrics=['accuracy'])"
   ]
  },
  {
   "cell_type": "code",
   "execution_count": 31,
   "metadata": {
    "ExecuteTime": {
     "end_time": "2020-01-06T09:30:38.564774Z",
     "start_time": "2020-01-06T09:30:38.552039Z"
    }
   },
   "outputs": [
    {
     "name": "stdout",
     "output_type": "stream",
     "text": [
      "_________________________________________________________________\n",
      "Layer (type)                 Output Shape              Param #   \n",
      "=================================================================\n",
      "embedding_3 (Embedding)      (None, None, 60)          869220    \n",
      "_________________________________________________________________\n",
      "lstm_4 (LSTM)                (None, None, 60)          29040     \n",
      "_________________________________________________________________\n",
      "lstm_5 (LSTM)                (None, 60)                29040     \n",
      "_________________________________________________________________\n",
      "dense_3 (Dense)              (None, 1)                 61        \n",
      "=================================================================\n",
      "Total params: 927,361\n",
      "Trainable params: 927,361\n",
      "Non-trainable params: 0\n",
      "_________________________________________________________________\n"
     ]
    }
   ],
   "source": [
    "model2.summary()"
   ]
  },
  {
   "cell_type": "code",
   "execution_count": 32,
   "metadata": {
    "ExecuteTime": {
     "end_time": "2020-01-06T09:42:45.896303Z",
     "start_time": "2020-01-06T09:31:07.106032Z"
    },
    "scrolled": true
   },
   "outputs": [
    {
     "name": "stdout",
     "output_type": "stream",
     "text": [
      "Epoch 1/30\n",
      "7613/7613 [==============================] - 27s 4ms/step - loss: 0.5702 - acc: 0.6971\n",
      "Epoch 2/30\n",
      "7613/7613 [==============================] - 21s 3ms/step - loss: 0.3443 - acc: 0.8570\n",
      "Epoch 3/30\n",
      "7613/7613 [==============================] - 22s 3ms/step - loss: 0.2443 - acc: 0.9099\n",
      "Epoch 4/30\n",
      "7613/7613 [==============================] - 25s 3ms/step - loss: 0.1829 - acc: 0.9352\n",
      "Epoch 5/30\n",
      "7613/7613 [==============================] - 23s 3ms/step - loss: 0.1486 - acc: 0.9473\n",
      "Epoch 6/30\n",
      "7613/7613 [==============================] - 22s 3ms/step - loss: 0.1253 - acc: 0.9565\n",
      "Epoch 7/30\n",
      "7613/7613 [==============================] - 22s 3ms/step - loss: 0.1077 - acc: 0.9648\n",
      "Epoch 8/30\n",
      "7613/7613 [==============================] - 22s 3ms/step - loss: 0.0932 - acc: 0.9665\n",
      "Epoch 9/30\n",
      "7613/7613 [==============================] - 21s 3ms/step - loss: 0.0911 - acc: 0.9691\n",
      "Epoch 10/30\n",
      "7613/7613 [==============================] - 21s 3ms/step - loss: 0.0801 - acc: 0.9701\n",
      "Epoch 11/30\n",
      "7613/7613 [==============================] - 22s 3ms/step - loss: 0.0754 - acc: 0.9719\n",
      "Epoch 12/30\n",
      "7613/7613 [==============================] - 25s 3ms/step - loss: 0.0696 - acc: 0.9706\n",
      "Epoch 13/30\n",
      "7613/7613 [==============================] - 22s 3ms/step - loss: 0.0613 - acc: 0.9743: 1s - loss: 0.060\n",
      "Epoch 14/30\n",
      "7613/7613 [==============================] - 22s 3ms/step - loss: 0.0611 - acc: 0.9740\n",
      "Epoch 15/30\n",
      "7613/7613 [==============================] - 22s 3ms/step - loss: 0.0548 - acc: 0.9749\n",
      "Epoch 16/30\n",
      "7613/7613 [==============================] - 22s 3ms/step - loss: 0.0520 - acc: 0.9778\n",
      "Epoch 17/30\n",
      "7613/7613 [==============================] - 22s 3ms/step - loss: 0.0502 - acc: 0.9777\n",
      "Epoch 18/30\n",
      "7613/7613 [==============================] - 22s 3ms/step - loss: 0.0489 - acc: 0.9770\n",
      "Epoch 19/30\n",
      "7613/7613 [==============================] - 22s 3ms/step - loss: 0.0475 - acc: 0.9786\n",
      "Epoch 20/30\n",
      "7613/7613 [==============================] - 22s 3ms/step - loss: 0.0457 - acc: 0.9782: 0s - loss: 0.0456 - acc: 0.97\n",
      "Epoch 21/30\n",
      "7613/7613 [==============================] - ETA: 0s - loss: 0.0421 - acc: 0.980 - 24s 3ms/step - loss: 0.0422 - acc: 0.9799\n",
      "Epoch 22/30\n",
      "7613/7613 [==============================] - 24s 3ms/step - loss: 0.0426 - acc: 0.9795\n",
      "Epoch 23/30\n",
      "7613/7613 [==============================] - 24s 3ms/step - loss: 0.0414 - acc: 0.9794\n",
      "Epoch 24/30\n",
      "7613/7613 [==============================] - 29s 4ms/step - loss: 0.0438 - acc: 0.9795\n",
      "Epoch 25/30\n",
      "7613/7613 [==============================] - 25s 3ms/step - loss: 0.0420 - acc: 0.9795\n",
      "Epoch 26/30\n",
      "7613/7613 [==============================] - 26s 3ms/step - loss: 0.0421 - acc: 0.9798\n",
      "Epoch 27/30\n",
      "7613/7613 [==============================] - 25s 3ms/step - loss: 0.0390 - acc: 0.9802\n",
      "Epoch 28/30\n",
      "7613/7613 [==============================] - 25s 3ms/step - loss: 0.0442 - acc: 0.9794: \n",
      "Epoch 29/30\n",
      "7613/7613 [==============================] - 22s 3ms/step - loss: 0.0419 - acc: 0.9787: 2s - lo\n",
      "Epoch 30/30\n",
      "7613/7613 [==============================] - 23s 3ms/step - loss: 0.0416 - acc: 0.9798\n"
     ]
    },
    {
     "data": {
      "text/plain": [
       "<keras.callbacks.History at 0x15c41a8abe0>"
      ]
     },
     "execution_count": 32,
     "metadata": {},
     "output_type": "execute_result"
    }
   ],
   "source": [
    "model2.fit(traintext, ytrain,\n",
    "          batch_size=batch_size,\n",
    "          epochs=30)"
   ]
  },
  {
   "cell_type": "code",
   "execution_count": 36,
   "metadata": {
    "ExecuteTime": {
     "end_time": "2020-01-06T09:51:52.380496Z",
     "start_time": "2020-01-06T09:51:51.237338Z"
    }
   },
   "outputs": [],
   "source": [
    "pred2=model2.predict(testtext)"
   ]
  },
  {
   "cell_type": "code",
   "execution_count": 37,
   "metadata": {
    "ExecuteTime": {
     "end_time": "2020-01-06T09:52:00.210040Z",
     "start_time": "2020-01-06T09:51:59.928887Z"
    }
   },
   "outputs": [],
   "source": [
    "pred2[pred2>=0.6]=1\n",
    "pred2[pred2<0.6]=0\n",
    "pred2=pred2.astype('int32')\n",
    "pred2=pd.DataFrame(pred2)\n",
    "submission2=pd.DataFrame([Xtestid]).T\n",
    "submission2=pd.concat([submission2,pred2],axis=1)\n",
    "submission2.columns=['id','target']\n",
    "submission2.set_index('id',inplace=True)\n",
    "submission2.to_csv(\"submission2.csv\")"
   ]
  },
  {
   "cell_type": "code",
   "execution_count": 39,
   "metadata": {
    "ExecuteTime": {
     "end_time": "2020-01-06T09:54:27.420820Z",
     "start_time": "2020-01-06T09:54:26.930741Z"
    }
   },
   "outputs": [],
   "source": [
    "submission1=pd.read_csv('Submission.csv')"
   ]
  },
  {
   "cell_type": "code",
   "execution_count": 45,
   "metadata": {
    "ExecuteTime": {
     "end_time": "2020-01-06T09:55:29.169346Z",
     "start_time": "2020-01-06T09:55:29.162347Z"
    }
   },
   "outputs": [],
   "source": [
    "submission2.reset_index(inplace=True)"
   ]
  },
  {
   "cell_type": "code",
   "execution_count": 48,
   "metadata": {
    "ExecuteTime": {
     "end_time": "2020-01-06T09:56:40.119831Z",
     "start_time": "2020-01-06T09:56:40.102833Z"
    }
   },
   "outputs": [],
   "source": [
    "newsub=pd.concat([submission1,submission2],axis=1)"
   ]
  },
  {
   "cell_type": "code",
   "execution_count": 52,
   "metadata": {
    "ExecuteTime": {
     "end_time": "2020-01-06T09:57:39.194262Z",
     "start_time": "2020-01-06T09:57:39.168271Z"
    }
   },
   "outputs": [],
   "source": [
    "newsub.drop(columns=['id'],inplace=True)"
   ]
  },
  {
   "cell_type": "code",
   "execution_count": 58,
   "metadata": {
    "ExecuteTime": {
     "end_time": "2020-01-06T09:59:59.827639Z",
     "start_time": "2020-01-06T09:59:59.819638Z"
    }
   },
   "outputs": [],
   "source": [
    "newsub=newsub.sum(axis=1)/2"
   ]
  },
  {
   "cell_type": "code",
   "execution_count": 59,
   "metadata": {
    "ExecuteTime": {
     "end_time": "2020-01-06T10:00:30.910764Z",
     "start_time": "2020-01-06T10:00:30.887767Z"
    }
   },
   "outputs": [],
   "source": [
    "newsub[newsub>=1]=1\n",
    "newsub[newsub<1]=0"
   ]
  },
  {
   "cell_type": "code",
   "execution_count": 62,
   "metadata": {
    "ExecuteTime": {
     "end_time": "2020-01-06T10:01:52.123946Z",
     "start_time": "2020-01-06T10:01:51.805612Z"
    }
   },
   "outputs": [],
   "source": [
    "newsub=newsub.astype('int32')\n",
    "newsub=pd.DataFrame(newsub)\n",
    "submission3=pd.DataFrame([Xtestid]).T\n",
    "submission3=pd.concat([submission3,newsub],axis=1)\n",
    "submission3.columns=['id','target']\n",
    "submission3.set_index('id',inplace=True)\n",
    "submission3.to_csv(\"submission3.csv\")"
   ]
  },
  {
   "cell_type": "code",
   "execution_count": null,
   "metadata": {},
   "outputs": [],
   "source": []
  }
 ],
 "metadata": {
  "kernelspec": {
   "display_name": "Python 3",
   "language": "python",
   "name": "python3"
  },
  "language_info": {
   "codemirror_mode": {
    "name": "ipython",
    "version": 3
   },
   "file_extension": ".py",
   "mimetype": "text/x-python",
   "name": "python",
   "nbconvert_exporter": "python",
   "pygments_lexer": "ipython3",
   "version": "3.7.3"
  },
  "toc": {
   "base_numbering": 1,
   "nav_menu": {},
   "number_sections": false,
   "sideBar": true,
   "skip_h1_title": true,
   "title_cell": "Table of Contents",
   "title_sidebar": "Contents",
   "toc_cell": false,
   "toc_position": {},
   "toc_section_display": true,
   "toc_window_display": false
  }
 },
 "nbformat": 4,
 "nbformat_minor": 1
}
